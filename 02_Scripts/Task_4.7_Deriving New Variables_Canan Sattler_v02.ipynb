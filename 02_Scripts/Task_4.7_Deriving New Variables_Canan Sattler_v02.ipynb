{
 "cells": [
  {
   "cell_type": "markdown",
   "id": "cf920261-bbd3-4d6e-b096-b34d2b2a3521",
   "metadata": {},
   "source": [
    "# Task 4.7 – Aggregating, Deriving and Exporting Data\n",
    "\n",
    "In this task, I will:\n",
    "- Derive new variables from existing ones\n",
    "- Label price ranges and identify busiest order times\n",
    "- Create grouped categories for days and hours\n",
    "- Export the enhanced dataframe for future analysis"
   ]
  },
  {
   "cell_type": "markdown",
   "id": "80936ad2-f407-4e52-aa76-ee15f16b5043",
   "metadata": {},
   "source": [
    "## Import Libraries and Set Path"
   ]
  },
  {
   "cell_type": "code",
   "execution_count": 1,
   "id": "22991686-823d-4b92-86f3-55c1dd0cf63f",
   "metadata": {},
   "outputs": [],
   "source": [
    "# Import libraries\n",
    "import pandas as pd\n",
    "import numpy as np\n",
    "import os"
   ]
  },
  {
   "cell_type": "code",
   "execution_count": 2,
   "id": "eb82ba06-7e7d-4318-8d37-912eb5d5c222",
   "metadata": {},
   "outputs": [],
   "source": [
    "# Define base path\n",
    "path = r'/Users/canancengel/A4_Instacart Basket Analysis/02_Data'"
   ]
  },
  {
   "cell_type": "markdown",
   "id": "ecbbd1cb-32b4-4fa2-994e-20507587858a",
   "metadata": {},
   "source": [
    "## Step 1: Import the merged dataset\n",
    "\n",
    "In this step, I load the fully merged orders-products dataframe (`ords_prods_merge.pkl`) that was created in the previous exercise. This file contains all the necessary information for further analysis—every order, its products, and related product metadata are now combined into a single dataset.\n",
    "\n",
    "Checking the shape confirms that the merged dataframe includes **32,404,859 rows** and **15 columns**, ensuring that no data was lost in previous steps.\n",
    "\n",
    "We will use this complete dataset as the basis for all new variable derivations and aggregations in this task."
   ]
  },
  {
   "cell_type": "code",
   "execution_count": 3,
   "id": "a2c6c3be-dd2e-48a4-8ec2-480a1d904986",
   "metadata": {},
   "outputs": [],
   "source": [
    "# Load merged dataset\n",
    "df = pd.read_pickle(os.path.join(path, 'Prepared Data', 'ords_prods_merge.pkl'))"
   ]
  },
  {
   "cell_type": "code",
   "execution_count": 4,
   "id": "4666bbc6-81ce-4d63-a154-db03e21594b1",
   "metadata": {},
   "outputs": [
    {
     "data": {
      "text/plain": [
       "(32404859, 15)"
      ]
     },
     "execution_count": 4,
     "metadata": {},
     "output_type": "execute_result"
    }
   ],
   "source": [
    "# Check shape\n",
    "df.shape"
   ]
  },
  {
   "cell_type": "markdown",
   "id": "fda0c332-408b-4bb5-b291-a935660c7d5f",
   "metadata": {},
   "source": [
    "## Step 2: Create a new column for price ranges\n",
    "\n",
    "I'll create the `price_label` column based on the value of the `prices` column.\n",
    "- Low-range product: price ≤ 5\n",
    "- Mid-range product: 5 < price ≤ 15\n",
    "- High-range product: price > 15"
   ]
  },
  {
   "cell_type": "code",
   "execution_count": 5,
   "id": "0f09fcf6-e96e-4231-9171-cb90b5ec18e4",
   "metadata": {},
   "outputs": [
    {
     "data": {
      "text/plain": [
       "count    3.240486e+07\n",
       "mean     1.198023e+01\n",
       "std      4.956554e+02\n",
       "min      1.000000e+00\n",
       "25%      4.200000e+00\n",
       "50%      7.400000e+00\n",
       "75%      1.130000e+01\n",
       "max      9.999900e+04\n",
       "Name: prices, dtype: float64"
      ]
     },
     "execution_count": 5,
     "metadata": {},
     "output_type": "execute_result"
    }
   ],
   "source": [
    "df['prices'].describe()"
   ]
  },
  {
   "cell_type": "code",
   "execution_count": 6,
   "id": "b9c25f24-9028-48b2-ad56-0ed34a60032e",
   "metadata": {},
   "outputs": [
    {
     "data": {
      "text/html": [
       "<div>\n",
       "<style scoped>\n",
       "    .dataframe tbody tr th:only-of-type {\n",
       "        vertical-align: middle;\n",
       "    }\n",
       "\n",
       "    .dataframe tbody tr th {\n",
       "        vertical-align: top;\n",
       "    }\n",
       "\n",
       "    .dataframe thead th {\n",
       "        text-align: right;\n",
       "    }\n",
       "</style>\n",
       "<table border=\"1\" class=\"dataframe\">\n",
       "  <thead>\n",
       "    <tr style=\"text-align: right;\">\n",
       "      <th></th>\n",
       "      <th>order_id</th>\n",
       "      <th>user_id</th>\n",
       "      <th>order_number</th>\n",
       "      <th>order_dow</th>\n",
       "      <th>order_hour_of_day</th>\n",
       "      <th>days_since_prior_order</th>\n",
       "      <th>new_customer</th>\n",
       "      <th>product_id</th>\n",
       "      <th>add_to_cart_order</th>\n",
       "      <th>reordered</th>\n",
       "      <th>_merge</th>\n",
       "      <th>product_name</th>\n",
       "      <th>aisle_id</th>\n",
       "      <th>department_id</th>\n",
       "      <th>prices</th>\n",
       "    </tr>\n",
       "  </thead>\n",
       "  <tbody>\n",
       "    <tr>\n",
       "      <th>398</th>\n",
       "      <td>2086598</td>\n",
       "      <td>6</td>\n",
       "      <td>1</td>\n",
       "      <td>5</td>\n",
       "      <td>18</td>\n",
       "      <td>NaN</td>\n",
       "      <td>True</td>\n",
       "      <td>38293</td>\n",
       "      <td>2</td>\n",
       "      <td>0</td>\n",
       "      <td>both</td>\n",
       "      <td>Ground Turkey Breast</td>\n",
       "      <td>35</td>\n",
       "      <td>12</td>\n",
       "      <td>19.6</td>\n",
       "    </tr>\n",
       "    <tr>\n",
       "      <th>401</th>\n",
       "      <td>298250</td>\n",
       "      <td>6</td>\n",
       "      <td>2</td>\n",
       "      <td>4</td>\n",
       "      <td>16</td>\n",
       "      <td>6.0</td>\n",
       "      <td>False</td>\n",
       "      <td>38293</td>\n",
       "      <td>1</td>\n",
       "      <td>1</td>\n",
       "      <td>both</td>\n",
       "      <td>Ground Turkey Breast</td>\n",
       "      <td>35</td>\n",
       "      <td>12</td>\n",
       "      <td>19.6</td>\n",
       "    </tr>\n",
       "    <tr>\n",
       "      <th>436</th>\n",
       "      <td>2402008</td>\n",
       "      <td>7</td>\n",
       "      <td>2</td>\n",
       "      <td>1</td>\n",
       "      <td>19</td>\n",
       "      <td>30.0</td>\n",
       "      <td>False</td>\n",
       "      <td>13198</td>\n",
       "      <td>14</td>\n",
       "      <td>0</td>\n",
       "      <td>both</td>\n",
       "      <td>85% Lean Ground Beef</td>\n",
       "      <td>122</td>\n",
       "      <td>12</td>\n",
       "      <td>23.2</td>\n",
       "    </tr>\n",
       "    <tr>\n",
       "      <th>465</th>\n",
       "      <td>121053</td>\n",
       "      <td>7</td>\n",
       "      <td>3</td>\n",
       "      <td>0</td>\n",
       "      <td>18</td>\n",
       "      <td>30.0</td>\n",
       "      <td>False</td>\n",
       "      <td>13198</td>\n",
       "      <td>22</td>\n",
       "      <td>1</td>\n",
       "      <td>both</td>\n",
       "      <td>85% Lean Ground Beef</td>\n",
       "      <td>122</td>\n",
       "      <td>12</td>\n",
       "      <td>23.2</td>\n",
       "    </tr>\n",
       "    <tr>\n",
       "      <th>480</th>\n",
       "      <td>1695742</td>\n",
       "      <td>7</td>\n",
       "      <td>4</td>\n",
       "      <td>2</td>\n",
       "      <td>10</td>\n",
       "      <td>9.0</td>\n",
       "      <td>False</td>\n",
       "      <td>13198</td>\n",
       "      <td>13</td>\n",
       "      <td>1</td>\n",
       "      <td>both</td>\n",
       "      <td>85% Lean Ground Beef</td>\n",
       "      <td>122</td>\n",
       "      <td>12</td>\n",
       "      <td>23.2</td>\n",
       "    </tr>\n",
       "    <tr>\n",
       "      <th>...</th>\n",
       "      <td>...</td>\n",
       "      <td>...</td>\n",
       "      <td>...</td>\n",
       "      <td>...</td>\n",
       "      <td>...</td>\n",
       "      <td>...</td>\n",
       "      <td>...</td>\n",
       "      <td>...</td>\n",
       "      <td>...</td>\n",
       "      <td>...</td>\n",
       "      <td>...</td>\n",
       "      <td>...</td>\n",
       "      <td>...</td>\n",
       "      <td>...</td>\n",
       "      <td>...</td>\n",
       "    </tr>\n",
       "    <tr>\n",
       "      <th>32404506</th>\n",
       "      <td>2017995</td>\n",
       "      <td>206208</td>\n",
       "      <td>34</td>\n",
       "      <td>6</td>\n",
       "      <td>15</td>\n",
       "      <td>7.0</td>\n",
       "      <td>False</td>\n",
       "      <td>13877</td>\n",
       "      <td>5</td>\n",
       "      <td>1</td>\n",
       "      <td>both</td>\n",
       "      <td>Smoked Salmon</td>\n",
       "      <td>15</td>\n",
       "      <td>12</td>\n",
       "      <td>21.6</td>\n",
       "    </tr>\n",
       "    <tr>\n",
       "      <th>32404588</th>\n",
       "      <td>3356245</td>\n",
       "      <td>206208</td>\n",
       "      <td>40</td>\n",
       "      <td>5</td>\n",
       "      <td>9</td>\n",
       "      <td>10.0</td>\n",
       "      <td>False</td>\n",
       "      <td>13877</td>\n",
       "      <td>11</td>\n",
       "      <td>1</td>\n",
       "      <td>both</td>\n",
       "      <td>Smoked Salmon</td>\n",
       "      <td>15</td>\n",
       "      <td>12</td>\n",
       "      <td>21.6</td>\n",
       "    </tr>\n",
       "    <tr>\n",
       "      <th>32404601</th>\n",
       "      <td>3356245</td>\n",
       "      <td>206208</td>\n",
       "      <td>40</td>\n",
       "      <td>5</td>\n",
       "      <td>9</td>\n",
       "      <td>10.0</td>\n",
       "      <td>False</td>\n",
       "      <td>9339</td>\n",
       "      <td>24</td>\n",
       "      <td>1</td>\n",
       "      <td>both</td>\n",
       "      <td>Organic Chicken &amp; Apple Sausage</td>\n",
       "      <td>106</td>\n",
       "      <td>12</td>\n",
       "      <td>21.1</td>\n",
       "    </tr>\n",
       "    <tr>\n",
       "      <th>32404672</th>\n",
       "      <td>3292671</td>\n",
       "      <td>206208</td>\n",
       "      <td>45</td>\n",
       "      <td>2</td>\n",
       "      <td>11</td>\n",
       "      <td>3.0</td>\n",
       "      <td>False</td>\n",
       "      <td>7952</td>\n",
       "      <td>16</td>\n",
       "      <td>1</td>\n",
       "      <td>both</td>\n",
       "      <td>Chicken &amp; Apple Breakfast Sausage</td>\n",
       "      <td>106</td>\n",
       "      <td>12</td>\n",
       "      <td>19.3</td>\n",
       "    </tr>\n",
       "    <tr>\n",
       "      <th>32404775</th>\n",
       "      <td>688306</td>\n",
       "      <td>206209</td>\n",
       "      <td>4</td>\n",
       "      <td>1</td>\n",
       "      <td>10</td>\n",
       "      <td>30.0</td>\n",
       "      <td>False</td>\n",
       "      <td>22713</td>\n",
       "      <td>9</td>\n",
       "      <td>0</td>\n",
       "      <td>both</td>\n",
       "      <td>Ground Chicken Breast</td>\n",
       "      <td>35</td>\n",
       "      <td>12</td>\n",
       "      <td>18.8</td>\n",
       "    </tr>\n",
       "  </tbody>\n",
       "</table>\n",
       "<p>417678 rows × 15 columns</p>\n",
       "</div>"
      ],
      "text/plain": [
       "          order_id  user_id  order_number  order_dow  order_hour_of_day  \\\n",
       "398        2086598        6             1          5                 18   \n",
       "401         298250        6             2          4                 16   \n",
       "436        2402008        7             2          1                 19   \n",
       "465         121053        7             3          0                 18   \n",
       "480        1695742        7             4          2                 10   \n",
       "...            ...      ...           ...        ...                ...   \n",
       "32404506   2017995   206208            34          6                 15   \n",
       "32404588   3356245   206208            40          5                  9   \n",
       "32404601   3356245   206208            40          5                  9   \n",
       "32404672   3292671   206208            45          2                 11   \n",
       "32404775    688306   206209             4          1                 10   \n",
       "\n",
       "          days_since_prior_order  new_customer  product_id  add_to_cart_order  \\\n",
       "398                          NaN          True       38293                  2   \n",
       "401                          6.0         False       38293                  1   \n",
       "436                         30.0         False       13198                 14   \n",
       "465                         30.0         False       13198                 22   \n",
       "480                          9.0         False       13198                 13   \n",
       "...                          ...           ...         ...                ...   \n",
       "32404506                     7.0         False       13877                  5   \n",
       "32404588                    10.0         False       13877                 11   \n",
       "32404601                    10.0         False        9339                 24   \n",
       "32404672                     3.0         False        7952                 16   \n",
       "32404775                    30.0         False       22713                  9   \n",
       "\n",
       "          reordered _merge                       product_name  aisle_id  \\\n",
       "398               0   both               Ground Turkey Breast        35   \n",
       "401               1   both               Ground Turkey Breast        35   \n",
       "436               0   both               85% Lean Ground Beef       122   \n",
       "465               1   both               85% Lean Ground Beef       122   \n",
       "480               1   both               85% Lean Ground Beef       122   \n",
       "...             ...    ...                                ...       ...   \n",
       "32404506          1   both                      Smoked Salmon        15   \n",
       "32404588          1   both                      Smoked Salmon        15   \n",
       "32404601          1   both    Organic Chicken & Apple Sausage       106   \n",
       "32404672          1   both  Chicken & Apple Breakfast Sausage       106   \n",
       "32404775          0   both              Ground Chicken Breast        35   \n",
       "\n",
       "          department_id  prices  \n",
       "398                  12    19.6  \n",
       "401                  12    19.6  \n",
       "436                  12    23.2  \n",
       "465                  12    23.2  \n",
       "480                  12    23.2  \n",
       "...                 ...     ...  \n",
       "32404506             12    21.6  \n",
       "32404588             12    21.6  \n",
       "32404601             12    21.1  \n",
       "32404672             12    19.3  \n",
       "32404775             12    18.8  \n",
       "\n",
       "[417678 rows x 15 columns]"
      ]
     },
     "execution_count": 6,
     "metadata": {},
     "output_type": "execute_result"
    }
   ],
   "source": [
    "df[df['prices'] > 15]"
   ]
  },
  {
   "cell_type": "code",
   "execution_count": 7,
   "id": "c9f3542a-d5a6-46aa-8581-b6e6df9ed3ff",
   "metadata": {},
   "outputs": [
    {
     "data": {
      "text/plain": [
       "0"
      ]
     },
     "execution_count": 7,
     "metadata": {},
     "output_type": "execute_result"
    }
   ],
   "source": [
    "df['prices'].isnull().sum()"
   ]
  },
  {
   "cell_type": "code",
   "execution_count": 8,
   "id": "400db5db-a0cf-4264-9000-8deb4f669b0e",
   "metadata": {},
   "outputs": [
    {
     "data": {
      "text/html": [
       "<div>\n",
       "<style scoped>\n",
       "    .dataframe tbody tr th:only-of-type {\n",
       "        vertical-align: middle;\n",
       "    }\n",
       "\n",
       "    .dataframe tbody tr th {\n",
       "        vertical-align: top;\n",
       "    }\n",
       "\n",
       "    .dataframe thead th {\n",
       "        text-align: right;\n",
       "    }\n",
       "</style>\n",
       "<table border=\"1\" class=\"dataframe\">\n",
       "  <thead>\n",
       "    <tr style=\"text-align: right;\">\n",
       "      <th></th>\n",
       "      <th>order_id</th>\n",
       "      <th>user_id</th>\n",
       "      <th>order_number</th>\n",
       "      <th>order_dow</th>\n",
       "      <th>order_hour_of_day</th>\n",
       "      <th>days_since_prior_order</th>\n",
       "      <th>new_customer</th>\n",
       "      <th>product_id</th>\n",
       "      <th>add_to_cart_order</th>\n",
       "      <th>reordered</th>\n",
       "      <th>_merge</th>\n",
       "      <th>product_name</th>\n",
       "      <th>aisle_id</th>\n",
       "      <th>department_id</th>\n",
       "      <th>prices</th>\n",
       "    </tr>\n",
       "  </thead>\n",
       "  <tbody>\n",
       "  </tbody>\n",
       "</table>\n",
       "</div>"
      ],
      "text/plain": [
       "Empty DataFrame\n",
       "Columns: [order_id, user_id, order_number, order_dow, order_hour_of_day, days_since_prior_order, new_customer, product_id, add_to_cart_order, reordered, _merge, product_name, aisle_id, department_id, prices]\n",
       "Index: []"
      ]
     },
     "execution_count": 8,
     "metadata": {},
     "output_type": "execute_result"
    }
   ],
   "source": [
    "df[df['prices'].isnull()]"
   ]
  },
  {
   "cell_type": "code",
   "execution_count": 9,
   "id": "501d4717-a917-40de-9ac0-9a76a8439589",
   "metadata": {},
   "outputs": [],
   "source": [
    "# Create price range labels\n",
    "df['price_label'] = df['prices'].apply(\n",
    "    lambda x: 'Low-range product' if x <= 5 \n",
    "    else ('Mid-range product' if x > 5 and x <= 15 else 'High-range product')\n",
    ")"
   ]
  },
  {
   "cell_type": "code",
   "execution_count": 10,
   "id": "1b7cd72c-cafd-4771-9535-5a8adc5dc399",
   "metadata": {},
   "outputs": [
    {
     "data": {
      "text/plain": [
       "price_label\n",
       "Mid-range product     21860860\n",
       "Low-range product     10126321\n",
       "High-range product      417678\n",
       "Name: count, dtype: int64"
      ]
     },
     "execution_count": 10,
     "metadata": {},
     "output_type": "execute_result"
    }
   ],
   "source": [
    "# View distribution\n",
    "df['price_label'].value_counts(dropna=False)"
   ]
  },
  {
   "cell_type": "code",
   "execution_count": 11,
   "id": "03ce0015-4f75-4580-a18c-f63a5b95a9f5",
   "metadata": {},
   "outputs": [
    {
     "name": "stdout",
     "output_type": "stream",
     "text": [
      "Index(['order_id', 'user_id', 'order_number', 'order_dow', 'order_hour_of_day',\n",
      "       'days_since_prior_order', 'new_customer', 'product_id',\n",
      "       'add_to_cart_order', 'reordered', '_merge', 'product_name', 'aisle_id',\n",
      "       'department_id', 'prices', 'price_label', 'price_range'],\n",
      "      dtype='object')\n"
     ]
    }
   ],
   "source": [
    "def price_label(row):\n",
    "    if row['prices'] <= 5:\n",
    "        return 'Low-range product'\n",
    "    elif (row['prices'] > 5) and (row['prices'] <= 15):\n",
    "        return 'Mid-range product'\n",
    "    elif row['prices'] > 15:\n",
    "        return 'High-range product'\n",
    "    else:\n",
    "        return 'Not enough data'\n",
    "\n",
    "df['price_range'] = df.apply(price_label, axis=1)\n",
    "print(df.columns)"
   ]
  },
  {
   "cell_type": "markdown",
   "id": "33635b72-0f67-4e23-a7eb-dad3106403e9",
   "metadata": {},
   "source": [
    "## Step 3: Create a column for busiest days of the week\n",
    "\n",
    "Determine the two busiest and two slowest days in terms of total orders, then label them accordingly in the `busiest_days` column."
   ]
  },
  {
   "cell_type": "code",
   "execution_count": 12,
   "id": "795e3a04-c501-4c0f-8a02-9c0f1fd4ed7d",
   "metadata": {},
   "outputs": [],
   "source": [
    "# Get order frequency by day\n",
    "day_counts = df['order_dow'].value_counts().sort_values(ascending=False)"
   ]
  },
  {
   "cell_type": "code",
   "execution_count": 13,
   "id": "8b0f2c23-bc1e-4aa4-bf66-7f24e3fe43b5",
   "metadata": {},
   "outputs": [],
   "source": [
    "# Identify busiest and slowest 2 days\n",
    "busiest_days = day_counts.head(2).index\n",
    "slowest_days = day_counts.tail(2).index"
   ]
  },
  {
   "cell_type": "code",
   "execution_count": 14,
   "id": "547e0cc4-79d1-4fa7-b332-c2392dca501a",
   "metadata": {},
   "outputs": [],
   "source": [
    "# Map values\n",
    "df['busiest_days'] = df['order_dow'].apply(\n",
    "    lambda x: 'Busiest days' if x in busiest_days \n",
    "    else ('Slowest days' if x in slowest_days else 'Regular days')\n",
    ")"
   ]
  },
  {
   "cell_type": "code",
   "execution_count": 15,
   "id": "ead300f3-c354-4ba3-9014-0c07e6739048",
   "metadata": {},
   "outputs": [
    {
     "data": {
      "text/plain": [
       "busiest_days\n",
       "Regular days    12916111\n",
       "Busiest days    11864412\n",
       "Slowest days     7624336\n",
       "Name: count, dtype: int64"
      ]
     },
     "execution_count": 15,
     "metadata": {},
     "output_type": "execute_result"
    }
   ],
   "source": [
    "# Check result\n",
    "df['busiest_days'].value_counts()"
   ]
  },
  {
   "cell_type": "markdown",
   "id": "8e74e13b-5041-4f39-b88b-d2fd2a517f2e",
   "metadata": {},
   "source": [
    "### Analysis: Busiest Days\n",
    "\n",
    "- According to the value counts of `order_dow`,\n",
    "- The two busiest days of the week are:\n",
    "  - Saturday (0) and Sunday (1)\n",
    "- The two slowest days are:\n",
    "  - Wednesday (3) and Thursday (4)\n",
    "- All other days are categorized as \"Regular days\" in the `busiest_days` column."
   ]
  },
  {
   "cell_type": "markdown",
   "id": "3e992c44-621f-4f3e-b8a1-8d53cd63cb51",
   "metadata": {},
   "source": [
    "## Step 4: Create a column for busiest periods of the day\n",
    "\n",
    "Categorize the order hour (`order_hour_of_day`) into:\n",
    "- Most orders (top 4 busiest hours)\n",
    "- Average orders\n",
    "- Fewest orders (bottom 4 slowest hours)"
   ]
  },
  {
   "cell_type": "code",
   "execution_count": 16,
   "id": "67196833-3c9b-4013-a25b-c032652930c8",
   "metadata": {},
   "outputs": [],
   "source": [
    "# Count orders per hour\n",
    "hour_counts = df['order_hour_of_day'].value_counts().sort_values(ascending=False)"
   ]
  },
  {
   "cell_type": "code",
   "execution_count": 17,
   "id": "3fb2f45e-bd6b-43f9-99d9-e3ee9f429bfc",
   "metadata": {},
   "outputs": [],
   "source": [
    "# Define thresholds\n",
    "most_busy = hour_counts.head(4).index\n",
    "least_busy = hour_counts.tail(4).index"
   ]
  },
  {
   "cell_type": "markdown",
   "id": "86886f96-9be5-464b-8b8b-216f877126f7",
   "metadata": {},
   "source": [
    "### Order Counts by Day of Week and Hour of Day\n",
    "\n",
    "The following tables show the number of orders placed on each day of the week and each hour of the day.\n",
    "This helps us identify the busiest and slowest time periods."
   ]
  },
  {
   "cell_type": "code",
   "execution_count": 18,
   "id": "4dffa50d-5630-4bc4-ab98-b53c8bd29f0f",
   "metadata": {},
   "outputs": [
    {
     "data": {
      "text/html": [
       "<div>\n",
       "<style scoped>\n",
       "    .dataframe tbody tr th:only-of-type {\n",
       "        vertical-align: middle;\n",
       "    }\n",
       "\n",
       "    .dataframe tbody tr th {\n",
       "        vertical-align: top;\n",
       "    }\n",
       "\n",
       "    .dataframe thead th {\n",
       "        text-align: right;\n",
       "    }\n",
       "</style>\n",
       "<table border=\"1\" class=\"dataframe\">\n",
       "  <thead>\n",
       "    <tr style=\"text-align: right;\">\n",
       "      <th></th>\n",
       "      <th>Hour of Day</th>\n",
       "      <th>Order Count</th>\n",
       "    </tr>\n",
       "  </thead>\n",
       "  <tbody>\n",
       "    <tr>\n",
       "      <th>0</th>\n",
       "      <td>0</td>\n",
       "      <td>218769</td>\n",
       "    </tr>\n",
       "    <tr>\n",
       "      <th>1</th>\n",
       "      <td>1</td>\n",
       "      <td>115700</td>\n",
       "    </tr>\n",
       "    <tr>\n",
       "      <th>2</th>\n",
       "      <td>2</td>\n",
       "      <td>69375</td>\n",
       "    </tr>\n",
       "    <tr>\n",
       "      <th>3</th>\n",
       "      <td>3</td>\n",
       "      <td>51281</td>\n",
       "    </tr>\n",
       "    <tr>\n",
       "      <th>4</th>\n",
       "      <td>4</td>\n",
       "      <td>53242</td>\n",
       "    </tr>\n",
       "    <tr>\n",
       "      <th>5</th>\n",
       "      <td>5</td>\n",
       "      <td>87961</td>\n",
       "    </tr>\n",
       "    <tr>\n",
       "      <th>6</th>\n",
       "      <td>6</td>\n",
       "      <td>290493</td>\n",
       "    </tr>\n",
       "    <tr>\n",
       "      <th>7</th>\n",
       "      <td>7</td>\n",
       "      <td>891054</td>\n",
       "    </tr>\n",
       "    <tr>\n",
       "      <th>8</th>\n",
       "      <td>8</td>\n",
       "      <td>1718118</td>\n",
       "    </tr>\n",
       "    <tr>\n",
       "      <th>9</th>\n",
       "      <td>9</td>\n",
       "      <td>2454203</td>\n",
       "    </tr>\n",
       "    <tr>\n",
       "      <th>10</th>\n",
       "      <td>10</td>\n",
       "      <td>2761760</td>\n",
       "    </tr>\n",
       "    <tr>\n",
       "      <th>11</th>\n",
       "      <td>11</td>\n",
       "      <td>2736140</td>\n",
       "    </tr>\n",
       "    <tr>\n",
       "      <th>12</th>\n",
       "      <td>12</td>\n",
       "      <td>2618532</td>\n",
       "    </tr>\n",
       "    <tr>\n",
       "      <th>13</th>\n",
       "      <td>13</td>\n",
       "      <td>2660954</td>\n",
       "    </tr>\n",
       "    <tr>\n",
       "      <th>14</th>\n",
       "      <td>14</td>\n",
       "      <td>2689136</td>\n",
       "    </tr>\n",
       "    <tr>\n",
       "      <th>15</th>\n",
       "      <td>15</td>\n",
       "      <td>2662144</td>\n",
       "    </tr>\n",
       "    <tr>\n",
       "      <th>16</th>\n",
       "      <td>16</td>\n",
       "      <td>2535202</td>\n",
       "    </tr>\n",
       "    <tr>\n",
       "      <th>17</th>\n",
       "      <td>17</td>\n",
       "      <td>2087654</td>\n",
       "    </tr>\n",
       "    <tr>\n",
       "      <th>18</th>\n",
       "      <td>18</td>\n",
       "      <td>1636502</td>\n",
       "    </tr>\n",
       "    <tr>\n",
       "      <th>19</th>\n",
       "      <td>19</td>\n",
       "      <td>1258305</td>\n",
       "    </tr>\n",
       "    <tr>\n",
       "      <th>20</th>\n",
       "      <td>20</td>\n",
       "      <td>976156</td>\n",
       "    </tr>\n",
       "    <tr>\n",
       "      <th>21</th>\n",
       "      <td>21</td>\n",
       "      <td>795637</td>\n",
       "    </tr>\n",
       "    <tr>\n",
       "      <th>22</th>\n",
       "      <td>22</td>\n",
       "      <td>634225</td>\n",
       "    </tr>\n",
       "    <tr>\n",
       "      <th>23</th>\n",
       "      <td>23</td>\n",
       "      <td>402316</td>\n",
       "    </tr>\n",
       "  </tbody>\n",
       "</table>\n",
       "</div>"
      ],
      "text/plain": [
       "    Hour of Day  Order Count\n",
       "0             0       218769\n",
       "1             1       115700\n",
       "2             2        69375\n",
       "3             3        51281\n",
       "4             4        53242\n",
       "5             5        87961\n",
       "6             6       290493\n",
       "7             7       891054\n",
       "8             8      1718118\n",
       "9             9      2454203\n",
       "10           10      2761760\n",
       "11           11      2736140\n",
       "12           12      2618532\n",
       "13           13      2660954\n",
       "14           14      2689136\n",
       "15           15      2662144\n",
       "16           16      2535202\n",
       "17           17      2087654\n",
       "18           18      1636502\n",
       "19           19      1258305\n",
       "20           20       976156\n",
       "21           21       795637\n",
       "22           22       634225\n",
       "23           23       402316"
      ]
     },
     "execution_count": 18,
     "metadata": {},
     "output_type": "execute_result"
    }
   ],
   "source": [
    "# Create a table showing number of orders per hour\n",
    "hour_table = df['order_hour_of_day'].value_counts().sort_index().rename_axis('Hour of Day').reset_index(name='Order Count')\n",
    "hour_table"
   ]
  },
  {
   "cell_type": "markdown",
   "id": "b3c21502-e733-4a98-b408-d59011f4bba5",
   "metadata": {},
   "source": [
    "### Analysis: Busiest Periods of the Day\n",
    "\n",
    "- Based on the `order_hour_of_day` frequency:\n",
    "  - **Most orders** occur at: 10 AM, 11 AM, 2 PM, and 3 PM\n",
    "  - **Fewest orders** occur during early hours: 3 AM, 4 AM, 5 AM, and 6 AM\n",
    "  - All other hours are labeled as \"Average orders\""
   ]
  },
  {
   "cell_type": "code",
   "execution_count": 19,
   "id": "3203af14-0f5b-4c13-ad4f-5a88170d101c",
   "metadata": {},
   "outputs": [],
   "source": [
    "# Create column\n",
    "df['busiest_period_of_day'] = df['order_hour_of_day'].apply(\n",
    "    lambda x: 'Most orders' if x in most_busy \n",
    "    else ('Fewest orders' if x in least_busy else 'Average orders')\n",
    ")"
   ]
  },
  {
   "cell_type": "code",
   "execution_count": 20,
   "id": "626c62a2-2f62-4eef-a919-4d79f5f3e459",
   "metadata": {},
   "outputs": [
    {
     "data": {
      "text/plain": [
       "busiest_period_of_day\n",
       "Average orders    21293820\n",
       "Most orders       10849180\n",
       "Fewest orders       261859\n",
       "Name: count, dtype: int64"
      ]
     },
     "execution_count": 20,
     "metadata": {},
     "output_type": "execute_result"
    }
   ],
   "source": [
    "# Check\n",
    "df['busiest_period_of_day'].value_counts()"
   ]
  },
  {
   "cell_type": "markdown",
   "id": "24d8badd-87d5-40c1-86f8-d510f155e694",
   "metadata": {},
   "source": [
    "### Analysis: Busiest Days\n",
    "\n",
    "Based on the value counts from the `order_dow` column, the following mapping was used to classify the two busiest and two slowest days:\n",
    "\n",
    "| Day of Week    | order_dow | Category        |\n",
    "|----------------|------------|-----------------|\n",
    "| Saturday       | 0          | Busiest days    |\n",
    "| Sunday         | 1          | Busiest days    |\n",
    "| Wednesday      | 3          | Slowest days    |\n",
    "| Thursday       | 4          | Slowest days    |\n",
    "| All other days | 2, 5, 6     | Regular days    |\n",
    "\n",
    "- The column `busiest_days` was created using these groupings.\n",
    "- This adjustment meets the client’s request to categorize both the two **busiest** and **slowest** days of the week."
   ]
  },
  {
   "cell_type": "code",
   "execution_count": 21,
   "id": "a1b3a7d3-877c-44f1-9b77-209484de2e91",
   "metadata": {},
   "outputs": [],
   "source": [
    "df['busiest_days'] = df['order_dow'].apply(\n",
    "    lambda x: 'Busiest days' if x in busiest_days \n",
    "    else ('Slowest days' if x in slowest_days else 'Regular days')\n",
    ")"
   ]
  },
  {
   "cell_type": "code",
   "execution_count": 22,
   "id": "c429399c-c9a9-4218-968f-672b1437a3a6",
   "metadata": {},
   "outputs": [
    {
     "data": {
      "text/html": [
       "<div>\n",
       "<style scoped>\n",
       "    .dataframe tbody tr th:only-of-type {\n",
       "        vertical-align: middle;\n",
       "    }\n",
       "\n",
       "    .dataframe tbody tr th {\n",
       "        vertical-align: top;\n",
       "    }\n",
       "\n",
       "    .dataframe thead th {\n",
       "        text-align: right;\n",
       "    }\n",
       "</style>\n",
       "<table border=\"1\" class=\"dataframe\">\n",
       "  <thead>\n",
       "    <tr style=\"text-align: right;\">\n",
       "      <th></th>\n",
       "      <th>Day of Week</th>\n",
       "      <th>Order Count</th>\n",
       "    </tr>\n",
       "  </thead>\n",
       "  <tbody>\n",
       "    <tr>\n",
       "      <th>0</th>\n",
       "      <td>0</td>\n",
       "      <td>6204182</td>\n",
       "    </tr>\n",
       "    <tr>\n",
       "      <th>1</th>\n",
       "      <td>1</td>\n",
       "      <td>5660230</td>\n",
       "    </tr>\n",
       "    <tr>\n",
       "      <th>2</th>\n",
       "      <td>2</td>\n",
       "      <td>4213830</td>\n",
       "    </tr>\n",
       "    <tr>\n",
       "      <th>3</th>\n",
       "      <td>3</td>\n",
       "      <td>3840534</td>\n",
       "    </tr>\n",
       "    <tr>\n",
       "      <th>4</th>\n",
       "      <td>4</td>\n",
       "      <td>3783802</td>\n",
       "    </tr>\n",
       "    <tr>\n",
       "      <th>5</th>\n",
       "      <td>5</td>\n",
       "      <td>4205791</td>\n",
       "    </tr>\n",
       "    <tr>\n",
       "      <th>6</th>\n",
       "      <td>6</td>\n",
       "      <td>4496490</td>\n",
       "    </tr>\n",
       "  </tbody>\n",
       "</table>\n",
       "</div>"
      ],
      "text/plain": [
       "   Day of Week  Order Count\n",
       "0            0      6204182\n",
       "1            1      5660230\n",
       "2            2      4213830\n",
       "3            3      3840534\n",
       "4            4      3783802\n",
       "5            5      4205791\n",
       "6            6      4496490"
      ]
     },
     "execution_count": 22,
     "metadata": {},
     "output_type": "execute_result"
    }
   ],
   "source": [
    "# Create a table showing number of orders per day of week\n",
    "\n",
    "dow_table = df['order_dow'].value_counts().sort_index().rename_axis('Day of Week').reset_index(name='Order Count')\n",
    "dow_table"
   ]
  },
  {
   "cell_type": "markdown",
   "id": "e4e9dab5-7782-4f74-a75a-82e597c067a1",
   "metadata": {},
   "source": [
    "### Analysis: Busiest Days\n",
    "\n",
    "- According to the value counts of `order_dow`, the two busiest days of the week are:\n",
    "  - **Saturday (0)** and **Sunday (1)**\n",
    "- The two slowest days are:\n",
    "  - **Wednesday (3)** and **Thursday (4)**\n",
    "- All other days are categorized as \"Regular days\" in the `busiest_days` column."
   ]
  },
  {
   "cell_type": "markdown",
   "id": "0a9b7b3e-1ba4-48d2-920b-11e77e97004f",
   "metadata": {},
   "source": [
    "## Step 5: Export the modified dataframe\n",
    "\n",
    "Exporting the new dataframe with all the derived columns to the Prepared Data folder for future analysis."
   ]
  },
  {
   "cell_type": "code",
   "execution_count": 23,
   "id": "0dfb8083-b62a-483e-9526-78c22595d095",
   "metadata": {},
   "outputs": [],
   "source": [
    "# Export with new columns\n",
    "df.to_pickle(os.path.join(path, 'Prepared Data', 'ords_prods_derived.pkl'))"
   ]
  },
  {
   "cell_type": "markdown",
   "id": "bdd121a6-095b-4796-a4b6-62e365754af5",
   "metadata": {},
   "source": [
    "## Task Complete\n",
    "\n",
    "- New columns created: `price_label`, `busiest_days`, and `busiest_period_of_day`\n",
    "- Labels verified with `.value_counts()`\n",
    "- Data exported successfully as `ords_prods_derived.pkl`"
   ]
  }
 ],
 "metadata": {
  "kernelspec": {
   "display_name": "Python [conda env:base] *",
   "language": "python",
   "name": "conda-base-py"
  },
  "language_info": {
   "codemirror_mode": {
    "name": "ipython",
    "version": 3
   },
   "file_extension": ".py",
   "mimetype": "text/x-python",
   "name": "python",
   "nbconvert_exporter": "python",
   "pygments_lexer": "ipython3",
   "version": "3.12.7"
  }
 },
 "nbformat": 4,
 "nbformat_minor": 5
}

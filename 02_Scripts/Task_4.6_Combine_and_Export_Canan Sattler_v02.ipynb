{
 "cells": [
  {
   "cell_type": "markdown",
   "id": "95e6cb5a-b62b-4f08-a822-86d3c7773882",
   "metadata": {},
   "source": [
    "# Task 4.6 – Combining & Exporting Data\n",
    "\n",
    "In this task, I will:\n",
    "- Merge cleaned orders with prior order-product data\n",
    "- Export the combined dataset as a `.pkl` file\n",
    "- Import the `.pkl` in another notebook\n",
    "- Merge with the cleaned product data\n",
    "- Export the final full dataset for future analysis"
   ]
  },
  {
   "cell_type": "code",
   "execution_count": 1,
   "id": "ec8bd0e1-0891-4c45-b30e-3037f887ac33",
   "metadata": {},
   "outputs": [],
   "source": [
    "# Import libraries\n",
    "\n",
    "import pandas as pd\n",
    "import numpy as np\n",
    "import os"
   ]
  },
  {
   "cell_type": "code",
   "execution_count": 2,
   "id": "0a0f46b5-80af-463a-b8dc-f401f6cf00f6",
   "metadata": {},
   "outputs": [],
   "source": [
    "path = r'/Users/canancengel/A4_Instacart Basket Analysis/02_Data'"
   ]
  },
  {
   "cell_type": "markdown",
   "id": "5749b727-d15a-4108-a650-0fcba4ed38ee",
   "metadata": {},
   "source": [
    "## Step 1: Load Cleaned Orders and Prior Order Products¶\n",
    "I begin by loading the cleaned orders dataset and the prior order-product relationships."
   ]
  },
  {
   "cell_type": "code",
   "execution_count": 3,
   "id": "3a5dd8ee-6563-4280-a1f3-760691f1bb07",
   "metadata": {},
   "outputs": [],
   "source": [
    "products_cleaned = pd.read_csv('/Users/canancengel/A4_Instacart Basket Analysis/02_Data/Prepared Data/products_cleaned.csv')\n",
    "orders_cleaned = pd.read_csv('/Users/canancengel/A4_Instacart Basket Analysis/02_Data/Prepared Data/orders_cleaned.csv')\n",
    "orders_prior = pd.read_csv('/Users/canancengel/A4_Instacart Basket Analysis/02_Data/Original Data/orders_products_prior.csv')"
   ]
  },
  {
   "cell_type": "code",
   "execution_count": 4,
   "id": "708b4fe1-0f18-432e-8fbb-6c746327984f",
   "metadata": {},
   "outputs": [
    {
     "name": "stdout",
     "output_type": "stream",
     "text": [
      "(49672, 5)\n",
      "(3421083, 7)\n",
      "(32434489, 4)\n"
     ]
    }
   ],
   "source": [
    "print(products_cleaned.shape)\n",
    "print(orders_cleaned.shape)\n",
    "print(orders_prior.shape)"
   ]
  },
  {
   "cell_type": "code",
   "execution_count": 5,
   "id": "bea5a8c0-cdbd-4d47-bede-b45f7f5524e9",
   "metadata": {},
   "outputs": [],
   "source": [
    "# Load cleaned orders and prior product data\n",
    "df_ords = pd.read_csv(os.path.join(path, 'Prepared Data', 'orders_cleaned.csv'))\n",
    "df_ords_prior = pd.read_csv(os.path.join(path, 'Original Data', 'orders_products_prior.csv'))"
   ]
  },
  {
   "cell_type": "markdown",
   "id": "8b2b9ba0-8146-4032-849a-f7542cbf94c4",
   "metadata": {},
   "source": [
    "## Step 2: Merge orders with prior order-product data\n",
    "\n",
    "I merge the datasets on `order_id` using an inner join and also include the `_merge` column to confirm that all rows came from both tables."
   ]
  },
  {
   "cell_type": "code",
   "execution_count": 22,
   "id": "4ac782fb-e228-4a84-af58-13965bf79301",
   "metadata": {},
   "outputs": [
    {
     "name": "stdout",
     "output_type": "stream",
     "text": [
      "_merge\n",
      "both          32434489\n",
      "left_only            0\n",
      "right_only           0\n",
      "Name: count, dtype: int64\n"
     ]
    }
   ],
   "source": [
    "orders_products_combined = orders_cleaned.merge(\n",
    "    orders_prior, on='order_id', how='inner', indicator=True\n",
    ")\n",
    "print(orders_products_combined['_merge'].value_counts())"
   ]
  },
  {
   "cell_type": "markdown",
   "id": "6d9088ac-65b7-41ac-bd63-04fec629f54f",
   "metadata": {},
   "source": [
    "## Step 3: Export merged dataframe to `.pkl`\n",
    "\n",
    "I export the merged dataframe in Pickle format (`.pkl`), which is a compact and efficient format for storage and reloading in future steps."
   ]
  },
  {
   "cell_type": "code",
   "execution_count": 23,
   "id": "8492e785-d875-4186-a24e-6f3236d6b6b4",
   "metadata": {},
   "outputs": [],
   "source": [
    "df_merged.to_pickle('/Users/canancengel/A4_Instacart Basket Analysis/02_Data/Prepared Data/orders_products_combined.pkl')"
   ]
  },
  {
   "cell_type": "markdown",
   "id": "7aeaabab-fba3-470a-8881-a7b7039fd13e",
   "metadata": {},
   "source": [
    "## Step 4: Import the combined dataframe from `.pkl`\n",
    "\n",
    "I simulate opening a new notebook by importing the `.pkl` file.  \n",
    "I'll also check the shape to confirm that the file saved and loaded correctly."
   ]
  },
  {
   "cell_type": "code",
   "execution_count": 24,
   "id": "be73ea4f-c523-41ab-8cd7-d4337f7b5f33",
   "metadata": {},
   "outputs": [
    {
     "name": "stdout",
     "output_type": "stream",
     "text": [
      "(32434489, 11)\n"
     ]
    }
   ],
   "source": [
    "df_combined = pd.read_pickle('/Users/canancengel/A4_Instacart Basket Analysis/02_Data/Prepared Data/orders_products_combined.pkl')\n",
    "print(df_combined.shape)"
   ]
  },
  {
   "cell_type": "markdown",
   "id": "eeedff81-9d81-4ed5-a22b-5534aeee20e5",
   "metadata": {},
   "source": [
    "## Step 5: Merge combined data with cleaned product data\n",
    "\n",
    "I use the product_id column to merge the order-product combination with the cleaned product details."
   ]
  },
  {
   "cell_type": "code",
   "execution_count": 25,
   "id": "d675dd56-50eb-408d-a654-e4c1a2541808",
   "metadata": {},
   "outputs": [],
   "source": [
    "# Load cleaned product data\n",
    "df_prods = pd.read_csv(os.path.join(path, 'Prepared Data', 'products_cleaned.csv'))"
   ]
  },
  {
   "cell_type": "code",
   "execution_count": 26,
   "id": "7f69bd0d-7646-4ed3-82ee-0392bb1af0fa",
   "metadata": {},
   "outputs": [],
   "source": [
    "# Merge with product data, using a custom merge flag\n",
    "df_final = df_combined.merge(df_prods, on='product_id', how='inner', indicator='_merge_flag')"
   ]
  },
  {
   "cell_type": "code",
   "execution_count": 27,
   "id": "3891721b-f126-413a-ada6-9ee3d702daca",
   "metadata": {},
   "outputs": [
    {
     "data": {
      "text/plain": [
       "_merge_flag\n",
       "both          32404859\n",
       "left_only            0\n",
       "right_only           0\n",
       "Name: count, dtype: int64"
      ]
     },
     "execution_count": 27,
     "metadata": {},
     "output_type": "execute_result"
    }
   ],
   "source": [
    "# Check merge results\n",
    "df_final['_merge_flag'].value_counts()"
   ]
  },
  {
   "cell_type": "code",
   "execution_count": 28,
   "id": "b0fb20c4-6f1e-4f6c-804d-253b47d6f85d",
   "metadata": {},
   "outputs": [],
   "source": [
    "df_final = df_final.drop(columns=['_merge_flag'])"
   ]
  },
  {
   "cell_type": "markdown",
   "id": "bb7732a4-f21a-4b8c-9000-9722ed03c7b2",
   "metadata": {},
   "source": [
    "## Step 6: Export final merged dataframe to `.pkl`\n",
    "\n",
    "After combining the cleaned orders and order-product dataframes, I merged this result with the cleaned products dataframe. Now, the final merged dataset contains only consistent and accurate data, and will be used for further analysis."
   ]
  },
  {
   "cell_type": "code",
   "execution_count": 29,
   "id": "31af95bb-6dc3-483b-a254-57e5cfd72f3b",
   "metadata": {},
   "outputs": [],
   "source": [
    "df_final.to_pickle('/Users/canancengel/A4_Instacart Basket Analysis/02_Data/Prepared Data/ords_prods_merge.pkl')"
   ]
  },
  {
   "cell_type": "code",
   "execution_count": 30,
   "id": "1efb7488-9731-4b5a-9c3c-ecbfa36de3f1",
   "metadata": {},
   "outputs": [
    {
     "data": {
      "text/plain": [
       "(32404859, 15)"
      ]
     },
     "execution_count": 30,
     "metadata": {},
     "output_type": "execute_result"
    }
   ],
   "source": [
    "df_final.shape"
   ]
  },
  {
   "cell_type": "code",
   "execution_count": 31,
   "id": "760880f1-b9ac-46bd-8b94-aaa55493e326",
   "metadata": {},
   "outputs": [
    {
     "data": {
      "text/html": [
       "<div>\n",
       "<style scoped>\n",
       "    .dataframe tbody tr th:only-of-type {\n",
       "        vertical-align: middle;\n",
       "    }\n",
       "\n",
       "    .dataframe tbody tr th {\n",
       "        vertical-align: top;\n",
       "    }\n",
       "\n",
       "    .dataframe thead th {\n",
       "        text-align: right;\n",
       "    }\n",
       "</style>\n",
       "<table border=\"1\" class=\"dataframe\">\n",
       "  <thead>\n",
       "    <tr style=\"text-align: right;\">\n",
       "      <th></th>\n",
       "      <th>order_id</th>\n",
       "      <th>user_id</th>\n",
       "      <th>order_number</th>\n",
       "      <th>order_dow</th>\n",
       "      <th>order_hour_of_day</th>\n",
       "      <th>days_since_prior_order</th>\n",
       "      <th>new_customer</th>\n",
       "      <th>product_id</th>\n",
       "      <th>add_to_cart_order</th>\n",
       "      <th>reordered</th>\n",
       "      <th>_merge</th>\n",
       "      <th>product_name</th>\n",
       "      <th>aisle_id</th>\n",
       "      <th>department_id</th>\n",
       "      <th>prices</th>\n",
       "    </tr>\n",
       "  </thead>\n",
       "  <tbody>\n",
       "    <tr>\n",
       "      <th>0</th>\n",
       "      <td>2539329</td>\n",
       "      <td>1</td>\n",
       "      <td>1</td>\n",
       "      <td>2</td>\n",
       "      <td>8</td>\n",
       "      <td>NaN</td>\n",
       "      <td>True</td>\n",
       "      <td>196</td>\n",
       "      <td>1</td>\n",
       "      <td>0</td>\n",
       "      <td>both</td>\n",
       "      <td>Soda</td>\n",
       "      <td>77</td>\n",
       "      <td>7</td>\n",
       "      <td>9.0</td>\n",
       "    </tr>\n",
       "    <tr>\n",
       "      <th>1</th>\n",
       "      <td>2539329</td>\n",
       "      <td>1</td>\n",
       "      <td>1</td>\n",
       "      <td>2</td>\n",
       "      <td>8</td>\n",
       "      <td>NaN</td>\n",
       "      <td>True</td>\n",
       "      <td>14084</td>\n",
       "      <td>2</td>\n",
       "      <td>0</td>\n",
       "      <td>both</td>\n",
       "      <td>Organic Unsweetened Vanilla Almond Milk</td>\n",
       "      <td>91</td>\n",
       "      <td>16</td>\n",
       "      <td>12.5</td>\n",
       "    </tr>\n",
       "    <tr>\n",
       "      <th>2</th>\n",
       "      <td>2539329</td>\n",
       "      <td>1</td>\n",
       "      <td>1</td>\n",
       "      <td>2</td>\n",
       "      <td>8</td>\n",
       "      <td>NaN</td>\n",
       "      <td>True</td>\n",
       "      <td>12427</td>\n",
       "      <td>3</td>\n",
       "      <td>0</td>\n",
       "      <td>both</td>\n",
       "      <td>Original Beef Jerky</td>\n",
       "      <td>23</td>\n",
       "      <td>19</td>\n",
       "      <td>4.4</td>\n",
       "    </tr>\n",
       "    <tr>\n",
       "      <th>3</th>\n",
       "      <td>2539329</td>\n",
       "      <td>1</td>\n",
       "      <td>1</td>\n",
       "      <td>2</td>\n",
       "      <td>8</td>\n",
       "      <td>NaN</td>\n",
       "      <td>True</td>\n",
       "      <td>26088</td>\n",
       "      <td>4</td>\n",
       "      <td>0</td>\n",
       "      <td>both</td>\n",
       "      <td>Aged White Cheddar Popcorn</td>\n",
       "      <td>23</td>\n",
       "      <td>19</td>\n",
       "      <td>4.7</td>\n",
       "    </tr>\n",
       "    <tr>\n",
       "      <th>4</th>\n",
       "      <td>2539329</td>\n",
       "      <td>1</td>\n",
       "      <td>1</td>\n",
       "      <td>2</td>\n",
       "      <td>8</td>\n",
       "      <td>NaN</td>\n",
       "      <td>True</td>\n",
       "      <td>26405</td>\n",
       "      <td>5</td>\n",
       "      <td>0</td>\n",
       "      <td>both</td>\n",
       "      <td>XL Pick-A-Size Paper Towel Rolls</td>\n",
       "      <td>54</td>\n",
       "      <td>17</td>\n",
       "      <td>1.0</td>\n",
       "    </tr>\n",
       "  </tbody>\n",
       "</table>\n",
       "</div>"
      ],
      "text/plain": [
       "   order_id  user_id  order_number  order_dow  order_hour_of_day  \\\n",
       "0   2539329        1             1          2                  8   \n",
       "1   2539329        1             1          2                  8   \n",
       "2   2539329        1             1          2                  8   \n",
       "3   2539329        1             1          2                  8   \n",
       "4   2539329        1             1          2                  8   \n",
       "\n",
       "   days_since_prior_order  new_customer  product_id  add_to_cart_order  \\\n",
       "0                     NaN          True         196                  1   \n",
       "1                     NaN          True       14084                  2   \n",
       "2                     NaN          True       12427                  3   \n",
       "3                     NaN          True       26088                  4   \n",
       "4                     NaN          True       26405                  5   \n",
       "\n",
       "   reordered _merge                             product_name  aisle_id  \\\n",
       "0          0   both                                     Soda        77   \n",
       "1          0   both  Organic Unsweetened Vanilla Almond Milk        91   \n",
       "2          0   both                      Original Beef Jerky        23   \n",
       "3          0   both               Aged White Cheddar Popcorn        23   \n",
       "4          0   both         XL Pick-A-Size Paper Towel Rolls        54   \n",
       "\n",
       "   department_id  prices  \n",
       "0              7     9.0  \n",
       "1             16    12.5  \n",
       "2             19     4.4  \n",
       "3             19     4.7  \n",
       "4             17     1.0  "
      ]
     },
     "execution_count": 31,
     "metadata": {},
     "output_type": "execute_result"
    }
   ],
   "source": [
    "df_final.head()"
   ]
  }
 ],
 "metadata": {
  "kernelspec": {
   "display_name": "Python [conda env:base] *",
   "language": "python",
   "name": "conda-base-py"
  },
  "language_info": {
   "codemirror_mode": {
    "name": "ipython",
    "version": 3
   },
   "file_extension": ".py",
   "mimetype": "text/x-python",
   "name": "python",
   "nbconvert_exporter": "python",
   "pygments_lexer": "ipython3",
   "version": "3.12.7"
  }
 },
 "nbformat": 4,
 "nbformat_minor": 5
}

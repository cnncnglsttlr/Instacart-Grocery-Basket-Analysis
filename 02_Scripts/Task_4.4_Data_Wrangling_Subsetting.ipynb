{
 "cells": [
  {
   "cell_type": "markdown",
   "id": "78a03be9-7dc9-4617-8779-c2f8499a270e",
   "metadata": {},
   "source": [
    "# 4.4 Data Wrangling and Subsetting\n",
    "\n",
    "## Step 1: Importing Libraries and Reading Data\n",
    "This section imports necessary libraries and loads the data files into pandas DataFrames."
   ]
  },
  {
   "cell_type": "code",
   "execution_count": 123,
   "id": "f8989fc0-dcca-458f-b040-db829ec65396",
   "metadata": {},
   "outputs": [],
   "source": [
    "import pandas as pd\n",
    "import numpy as np\n",
    "import os"
   ]
  },
  {
   "cell_type": "code",
   "execution_count": 124,
   "id": "16d6f527-ce75-48ae-946a-b99ad21e3b8d",
   "metadata": {},
   "outputs": [],
   "source": [
    "path = r'/Users/canancengel/A4_Instacart Basket Analysis/02_Data/Original Data'"
   ]
  },
  {
   "cell_type": "markdown",
   "id": "003fa7be-fa70-4044-b1ae-f64083bf2623",
   "metadata": {},
   "source": [
    "## Step 2: Data Overview\n",
    "Preview the first few rows and review the structure of the orders and products datasets."
   ]
  },
  {
   "cell_type": "code",
   "execution_count": 125,
   "id": "b2ebc64a-a99d-4668-8e0a-4fcf63fc23ed",
   "metadata": {},
   "outputs": [
    {
     "name": "stdout",
     "output_type": "stream",
     "text": [
      "   order_id  user_id eval_set  order_number  order_dow  order_hour_of_day  \\\n",
      "0   2539329        1    prior             1          2                  8   \n",
      "1   2398795        1    prior             2          3                  7   \n",
      "2    473747        1    prior             3          3                 12   \n",
      "3   2254736        1    prior             4          4                  7   \n",
      "4    431534        1    prior             5          4                 15   \n",
      "\n",
      "   days_since_prior_order  \n",
      "0                     NaN  \n",
      "1                    15.0  \n",
      "2                    21.0  \n",
      "3                    29.0  \n",
      "4                    28.0  \n",
      "<class 'pandas.core.frame.DataFrame'>\n",
      "RangeIndex: 3421083 entries, 0 to 3421082\n",
      "Data columns (total 7 columns):\n",
      " #   Column                  Dtype  \n",
      "---  ------                  -----  \n",
      " 0   order_id                int64  \n",
      " 1   user_id                 int64  \n",
      " 2   eval_set                object \n",
      " 3   order_number            int64  \n",
      " 4   order_dow               int64  \n",
      " 5   order_hour_of_day       int64  \n",
      " 6   days_since_prior_order  float64\n",
      "dtypes: float64(1), int64(5), object(1)\n",
      "memory usage: 182.7+ MB\n",
      "<class 'pandas.core.frame.DataFrame'>\n",
      "RangeIndex: 49693 entries, 0 to 49692\n",
      "Data columns (total 5 columns):\n",
      " #   Column         Non-Null Count  Dtype  \n",
      "---  ------         --------------  -----  \n",
      " 0   product_id     49693 non-null  int64  \n",
      " 1   product_name   49677 non-null  object \n",
      " 2   aisle_id       49693 non-null  int64  \n",
      " 3   department_id  49693 non-null  int64  \n",
      " 4   prices         49693 non-null  float64\n",
      "dtypes: float64(1), int64(3), object(1)\n",
      "memory usage: 1.9+ MB\n"
     ]
    }
   ],
   "source": [
    "import pandas as pd\n",
    "import numpy as np\n",
    "import os\n",
    "\n",
    "path = '/Users/canancengel/4.3_orders_products'\n",
    "\n",
    "orders_path = os.path.join(path, 'orders.csv')\n",
    "products_path = os.path.join(path, 'products.csv')\n",
    "\n",
    "df_ords = pd.read_csv(orders_path)\n",
    "df_prods = pd.read_csv(products_path)\n",
    "\n",
    "#Preview the first few rows and review the structure of the orders and products datasets.\n",
    "    \n",
    "print(df_ords.head())\n",
    "df_ords.head()\n",
    "df_ords.tail()\n",
    "df_ords.info()\n",
    "df_prods.head()\n",
    "df_prods.tail()\n",
    "df_prods.info()"
   ]
  },
  {
   "cell_type": "markdown",
   "id": "4d89599b-91d9-4c7d-a560-113a157d1875",
   "metadata": {},
   "source": [
    "## Step 3: Dropping Unnecessary Columns\n",
    "Remove columns that are not required for further analysis."
   ]
  },
  {
   "cell_type": "code",
   "execution_count": 126,
   "id": "a5bc2064-bb36-4f47-967a-3e6a6e0ef90a",
   "metadata": {},
   "outputs": [],
   "source": [
    "df_ords = df_ords.drop(columns=['eval_set'])"
   ]
  },
  {
   "cell_type": "markdown",
   "id": "cd90c55f-0c8e-4015-aebd-5e7375be1e48",
   "metadata": {},
   "source": [
    "## Step 4: Converting Numeric Variables to Suitable Format\n",
    "Convert identifier variables to an appropriate data type for analysis."
   ]
  },
  {
   "cell_type": "code",
   "execution_count": 127,
   "id": "9f8d6a2c-218e-4443-b9cf-a225765ade2c",
   "metadata": {},
   "outputs": [],
   "source": [
    "df_ords.rename(columns={\n",
    "    'order_id': 'OrderID',\n",
    "    'user_id': 'UserID',\n",
    "    'order_dow': 'Order_DayOfWeek',\n",
    "    'order_hour_of_day': 'Order_HourOfDay',\n",
    "    'days_since_prior_order': 'Days_SincePriorOrder'\n",
    "}, inplace=True)"
   ]
  },
  {
   "cell_type": "code",
   "execution_count": 128,
   "id": "3f36c090-1e0f-4e38-8ffa-6a88ebec1565",
   "metadata": {},
   "outputs": [],
   "source": [
    "df_prods.rename(columns={\n",
    "    'product_id': 'ProductID',\n",
    "    'product_name': 'ProductName',\n",
    "    'aisle_id': 'AisleID',\n",
    "    'department_id': 'DepartmentID',\n",
    "    'prices': 'Prices'\n",
    "}, inplace=True)"
   ]
  },
  {
   "cell_type": "markdown",
   "id": "0e325b1f-6faa-4ef7-b939-15d676df8582",
   "metadata": {},
   "source": [
    "## Step 5: Renaming Variables\n",
    "Rename columns to have more intuitive names and save the results in a new DataFrame and a CSV file."
   ]
  },
  {
   "cell_type": "code",
   "execution_count": 129,
   "id": "989e4cb0-4216-41e3-841c-e7ac3f769819",
   "metadata": {},
   "outputs": [],
   "source": [
    "df_ords_renamed = df_ords.rename(columns={'order_dow': 'Order_DayOfWeek'})\n",
    "df_ords_renamed.to_csv(os.path.join(path, \"Prepared Data\", \"orders_renamed.csv\"), index=False)"
   ]
  },
  {
   "cell_type": "code",
   "execution_count": 130,
   "id": "aef86442-8594-47e8-80c0-cd9edf728e15",
   "metadata": {},
   "outputs": [
    {
     "name": "stdout",
     "output_type": "stream",
     "text": [
      "OrderID                   int64\n",
      "UserID                    int64\n",
      "order_number              int64\n",
      "Order_DayOfWeek           int64\n",
      "Order_HourOfDay           int64\n",
      "Days_SincePriorOrder    float64\n",
      "dtype: object\n",
      "ProductID         int64\n",
      "ProductName      object\n",
      "AisleID           int64\n",
      "DepartmentID      int64\n",
      "Prices          float64\n",
      "dtype: object\n"
     ]
    }
   ],
   "source": [
    "print(df_ords.dtypes)\n",
    "print(df_prods.dtypes)"
   ]
  },
  {
   "cell_type": "markdown",
   "id": "14e6a8c2-a9fc-49c1-b3a5-8bf567b14313",
   "metadata": {},
   "source": [
    "## Step 6: Descriptive Statistics for Order Hour of Day\n",
    "Show descriptive statistics and frequency counts for the order_hour_of_day variable."
   ]
  },
  {
   "cell_type": "code",
   "execution_count": 131,
   "id": "44392029-8304-4e8b-81c2-0f2b06f00994",
   "metadata": {
    "scrolled": true
   },
   "outputs": [
    {
     "name": "stdout",
     "output_type": "stream",
     "text": [
      "count    3.421083e+06\n",
      "mean     1.345202e+01\n",
      "std      4.226088e+00\n",
      "min      0.000000e+00\n",
      "25%      1.000000e+01\n",
      "50%      1.300000e+01\n",
      "75%      1.600000e+01\n",
      "max      2.300000e+01\n",
      "Name: Order_HourOfDay, dtype: float64\n",
      "Order_HourOfDay\n",
      "10    288418\n",
      "11    284728\n",
      "15    283639\n",
      "14    283042\n",
      "13    277999\n",
      "12    272841\n",
      "16    272553\n",
      "9     257812\n",
      "17    228795\n",
      "18    182912\n",
      "8     178201\n",
      "19    140569\n",
      "20    104292\n",
      "7      91868\n",
      "21     78109\n",
      "22     61468\n",
      "23     40043\n",
      "6      30529\n",
      "0      22758\n",
      "1      12398\n",
      "5       9569\n",
      "2       7539\n",
      "4       5527\n",
      "3       5474\n",
      "Name: count, dtype: int64\n"
     ]
    }
   ],
   "source": [
    "print(df_ords['Order_HourOfDay'].describe())\n",
    "print(df_ords['Order_HourOfDay'].value_counts())"
   ]
  },
  {
   "cell_type": "code",
   "execution_count": 132,
   "id": "f5d80957-f084-479b-b351-4c76bc44e13a",
   "metadata": {},
   "outputs": [
    {
     "data": {
      "text/html": [
       "<div>\n",
       "<style scoped>\n",
       "    .dataframe tbody tr th:only-of-type {\n",
       "        vertical-align: middle;\n",
       "    }\n",
       "\n",
       "    .dataframe tbody tr th {\n",
       "        vertical-align: top;\n",
       "    }\n",
       "\n",
       "    .dataframe thead th {\n",
       "        text-align: right;\n",
       "    }\n",
       "</style>\n",
       "<table border=\"1\" class=\"dataframe\">\n",
       "  <thead>\n",
       "    <tr style=\"text-align: right;\">\n",
       "      <th></th>\n",
       "      <th>OrderID</th>\n",
       "      <th>UserID</th>\n",
       "      <th>order_number</th>\n",
       "      <th>Order_DayOfWeek</th>\n",
       "      <th>Order_HourOfDay</th>\n",
       "      <th>Days_SincePriorOrder</th>\n",
       "    </tr>\n",
       "  </thead>\n",
       "  <tbody>\n",
       "    <tr>\n",
       "      <th>0</th>\n",
       "      <td>2539329</td>\n",
       "      <td>1</td>\n",
       "      <td>1</td>\n",
       "      <td>2</td>\n",
       "      <td>8</td>\n",
       "      <td>NaN</td>\n",
       "    </tr>\n",
       "    <tr>\n",
       "      <th>1</th>\n",
       "      <td>2398795</td>\n",
       "      <td>1</td>\n",
       "      <td>2</td>\n",
       "      <td>3</td>\n",
       "      <td>7</td>\n",
       "      <td>15.0</td>\n",
       "    </tr>\n",
       "    <tr>\n",
       "      <th>2</th>\n",
       "      <td>473747</td>\n",
       "      <td>1</td>\n",
       "      <td>3</td>\n",
       "      <td>3</td>\n",
       "      <td>12</td>\n",
       "      <td>21.0</td>\n",
       "    </tr>\n",
       "    <tr>\n",
       "      <th>3</th>\n",
       "      <td>2254736</td>\n",
       "      <td>1</td>\n",
       "      <td>4</td>\n",
       "      <td>4</td>\n",
       "      <td>7</td>\n",
       "      <td>29.0</td>\n",
       "    </tr>\n",
       "    <tr>\n",
       "      <th>4</th>\n",
       "      <td>431534</td>\n",
       "      <td>1</td>\n",
       "      <td>5</td>\n",
       "      <td>4</td>\n",
       "      <td>15</td>\n",
       "      <td>28.0</td>\n",
       "    </tr>\n",
       "  </tbody>\n",
       "</table>\n",
       "</div>"
      ],
      "text/plain": [
       "   OrderID  UserID  order_number  Order_DayOfWeek  Order_HourOfDay  \\\n",
       "0  2539329       1             1                2                8   \n",
       "1  2398795       1             2                3                7   \n",
       "2   473747       1             3                3               12   \n",
       "3  2254736       1             4                4                7   \n",
       "4   431534       1             5                4               15   \n",
       "\n",
       "   Days_SincePriorOrder  \n",
       "0                   NaN  \n",
       "1                  15.0  \n",
       "2                  21.0  \n",
       "3                  29.0  \n",
       "4                  28.0  "
      ]
     },
     "execution_count": 132,
     "metadata": {},
     "output_type": "execute_result"
    }
   ],
   "source": [
    "df_ords.head()"
   ]
  },
  {
   "cell_type": "code",
   "execution_count": 133,
   "id": "3329c4a1-582b-4e3d-8390-15cb65c35e75",
   "metadata": {},
   "outputs": [],
   "source": [
    "df_ords['OrderID'] = df_ords['OrderID'].astype('str')"
   ]
  },
  {
   "cell_type": "markdown",
   "id": "4e8490b3-93e9-4343-b019-328dfda8ad5c",
   "metadata": {},
   "source": [
    "## Step 7: Rename Columns"
   ]
  },
  {
   "cell_type": "code",
   "execution_count": 134,
   "id": "a1a9596d-3139-447f-8e6e-dcdab6f2d813",
   "metadata": {},
   "outputs": [],
   "source": [
    "df_ords.rename(columns={'order_dow': 'order_day_of_week'}, inplace=True)"
   ]
  },
  {
   "cell_type": "markdown",
   "id": "5f88aa96-cbbc-42e7-8677-eb752e5b0870",
   "metadata": {},
   "source": [
    "## Step 8: Convert another identifier to string"
   ]
  },
  {
   "cell_type": "code",
   "execution_count": 135,
   "id": "2a1ef133-7bfe-404b-9449-d984fb640e46",
   "metadata": {},
   "outputs": [],
   "source": [
    "df_ords['user_id'] = df_ords['UserID'].astype('str')"
   ]
  },
  {
   "cell_type": "code",
   "execution_count": 136,
   "id": "cd7e1aac-23a1-470f-a5cc-5ba7fc48355e",
   "metadata": {},
   "outputs": [],
   "source": [
    "df_ords['OrderID'] = df_ords['OrderID'].astype(str)"
   ]
  },
  {
   "cell_type": "markdown",
   "id": "59b025e4-c45f-4a25-bbfd-afbf43fbb02e",
   "metadata": {},
   "source": [
    "## Step 9: Rename unintuitive column (without overwriting)"
   ]
  },
  {
   "cell_type": "code",
   "execution_count": 137,
   "id": "86fbf4aa-5bd7-4c6c-87d2-9b5282cff513",
   "metadata": {},
   "outputs": [],
   "source": [
    "df_ords_renamed = df_ords.rename(columns={'days_since_prior_order': 'days_waited_before_next_order'})"
   ]
  },
  {
   "cell_type": "code",
   "execution_count": 138,
   "id": "63c1a685-ddb5-4617-af4d-cfb7138882b7",
   "metadata": {},
   "outputs": [],
   "source": [
    "df_ords.rename(columns={'order_dow': 'Order_DayOfWeek'}, inplace=True)"
   ]
  },
  {
   "cell_type": "markdown",
   "id": "02a0d0dd-9e84-41a0-a7d3-8344ce8b6da7",
   "metadata": {},
   "source": [
    "## Step 10: Busiest order hour"
   ]
  },
  {
   "cell_type": "code",
   "execution_count": 139,
   "id": "bb108797-f347-48e0-97e4-e7ce9be2d287",
   "metadata": {},
   "outputs": [
    {
     "name": "stdout",
     "output_type": "stream",
     "text": [
      "Index(['OrderID', 'UserID', 'order_number', 'Order_DayOfWeek',\n",
      "       'Order_HourOfDay', 'Days_SincePriorOrder', 'user_id'],\n",
      "      dtype='object')\n",
      "Index(['ProductID', 'ProductName', 'AisleID', 'DepartmentID', 'Prices'], dtype='object')\n"
     ]
    }
   ],
   "source": [
    "print(df_ords.columns)\n",
    "print(df_prods.columns)"
   ]
  },
  {
   "cell_type": "code",
   "execution_count": 140,
   "id": "93078cc7-1ccb-477e-9c5a-dbb0a925ba0b",
   "metadata": {},
   "outputs": [
    {
     "name": "stdout",
     "output_type": "stream",
     "text": [
      "count    3.421083e+06\n",
      "mean     1.345202e+01\n",
      "std      4.226088e+00\n",
      "min      0.000000e+00\n",
      "25%      1.000000e+01\n",
      "50%      1.300000e+01\n",
      "75%      1.600000e+01\n",
      "max      2.300000e+01\n",
      "Name: Order_HourOfDay, dtype: float64\n",
      "Order_HourOfDay\n",
      "10    288418\n",
      "11    284728\n",
      "15    283639\n",
      "14    283042\n",
      "13    277999\n",
      "12    272841\n",
      "16    272553\n",
      "9     257812\n",
      "17    228795\n",
      "18    182912\n",
      "8     178201\n",
      "19    140569\n",
      "20    104292\n",
      "7      91868\n",
      "21     78109\n",
      "22     61468\n",
      "23     40043\n",
      "6      30529\n",
      "0      22758\n",
      "1      12398\n",
      "5       9569\n",
      "2       7539\n",
      "4       5527\n",
      "3       5474\n",
      "Name: count, dtype: int64\n"
     ]
    }
   ],
   "source": [
    "print(df_ords['Order_HourOfDay'].describe())\n",
    "print(df_ords['Order_HourOfDay'].value_counts())"
   ]
  },
  {
   "cell_type": "markdown",
   "id": "1b33f4af-f5ba-44ab-81b7-085d2562826c",
   "metadata": {},
   "source": [
    "**Result:** The busiest order time is 10:00."
   ]
  },
  {
   "cell_type": "code",
   "execution_count": 141,
   "id": "218795db-4879-49af-a196-50dc2e2c7a7c",
   "metadata": {},
   "outputs": [
    {
     "name": "stdout",
     "output_type": "stream",
     "text": [
      "Empty DataFrame\n",
      "Columns: [OrderID, UserID, order_number, Order_DayOfWeek, Order_HourOfDay, Days_SincePriorOrder, user_id]\n",
      "Index: []\n"
     ]
    }
   ],
   "source": [
    "user1_orders = df_ords[df_ords['user_id'] == 1]\n",
    "print(user1_orders.head())"
   ]
  },
  {
   "cell_type": "code",
   "execution_count": 144,
   "id": "a6d16310-8440-47d6-90a3-008f194e5bd2",
   "metadata": {},
   "outputs": [
    {
     "name": "stdout",
     "output_type": "stream",
     "text": [
      "    OrderID  UserID  order_number  Order_DayOfWeek  Order_HourOfDay  \\\n",
      "10  1187899       1            11                4                8   \n",
      "21  1402090       2            11                1               10   \n",
      "22  3186735       2            12                1                9   \n",
      "23  3268552       2            13                4               11   \n",
      "24   839880       2            14                3               10   \n",
      "\n",
      "    Days_SincePriorOrder user_id  \n",
      "10                  14.0       1  \n",
      "21                  30.0       2  \n",
      "22                  28.0       2  \n",
      "23                  30.0       2  \n",
      "24                  13.0       2  \n"
     ]
    }
   ],
   "source": [
    "orders_after_10 = df_ords[df_ords['order_number'] > 10]\n",
    "print(orders_after_10.head())"
   ]
  },
  {
   "cell_type": "markdown",
   "id": "b1c0b56b-462e-48f7-b477-bc9f80d0f62d",
   "metadata": {},
   "source": [
    "## Step 11: Meaning of department_id = 4\n",
    "Identify what department_id 4 represents by checking the data dictionary."
   ]
  },
  {
   "cell_type": "code",
   "execution_count": 145,
   "id": "4af3924d-f012-429f-8354-f2f3c78cada1",
   "metadata": {},
   "outputs": [],
   "source": [
    "department_4_products = df_prods[df_prods['DepartmentID'] == 4]"
   ]
  },
  {
   "cell_type": "markdown",
   "id": "6d98b5c9-5c20-4524-b5b0-b5edbb7f3e84",
   "metadata": {},
   "source": [
    "**Department ID 4:** This ID means “produce” (vegetables & fruits)."
   ]
  },
  {
   "cell_type": "code",
   "execution_count": 146,
   "id": "8ceb0321-2849-4ee1-a303-eff4eea87a21",
   "metadata": {},
   "outputs": [
    {
     "name": "stdout",
     "output_type": "stream",
     "text": [
      "['White Pearl Onions' 'Organic Clementines' 'European Cucumber' ...\n",
      " 'Baby Food Blueberry, Parsnip & Buckwheat Stage 2' 'Cabernet Tomatoes'\n",
      " 'Cucumber Kirby']\n"
     ]
    }
   ],
   "source": [
    "print(department_4_products['ProductName'].unique())"
   ]
  },
  {
   "cell_type": "markdown",
   "id": "d1114317-61ab-4a6f-8403-90b494438399",
   "metadata": {},
   "source": [
    "## Step 12: Breakfast items subset\n",
    "Subset the products data to include only breakfast-related departments and save the result as a new DataFrame and CSV file."
   ]
  },
  {
   "cell_type": "code",
   "execution_count": 147,
   "id": "58726f5b-661c-4fcb-b129-3839ed974268",
   "metadata": {},
   "outputs": [
    {
     "name": "stdout",
     "output_type": "stream",
     "text": [
      "Number of breakfast items: 8352\n"
     ]
    }
   ],
   "source": [
    "breakfast_department_ids = [14, 19, 8]\n",
    "breakfast_items = df_prods[df_prods['DepartmentID'].isin(breakfast_department_ids)]\n",
    "breakfast_items.to_csv(os.path.join(path, 'Prepared Data', 'breakfast_items.csv'), index=False)\n",
    "print(\"Number of breakfast items:\", breakfast_items.shape[0])"
   ]
  },
  {
   "cell_type": "markdown",
   "id": "4b611550-ca8d-4630-936f-6fd69bc713e6",
   "metadata": {},
   "source": [
    "## Step 13: Dinner party departments subset\n",
    "Create a subset for dinner party departments and save as a new DataFrame and CSV file."
   ]
  },
  {
   "cell_type": "code",
   "execution_count": 148,
   "id": "ea869212-2f20-4f53-914e-ca6fa19b37be",
   "metadata": {},
   "outputs": [
    {
     "name": "stdout",
     "output_type": "stream",
     "text": [
      "Number of dinner party items: 12893\n"
     ]
    }
   ],
   "source": [
    "party_department_ids = [5, 7, 11, 12]\n",
    "party_items = df_prods[df_prods['DepartmentID'].isin(party_department_ids)]\n",
    "party_items.to_csv(os.path.join(path, 'Prepared Data', 'dinner_party_items.csv'), index=False)\n",
    "print(\"Number of dinner party items:\", party_items.shape[0])"
   ]
  },
  {
   "cell_type": "markdown",
   "id": "2d4c0cd5-98ca-4f0a-85e9-997880abb24f",
   "metadata": {},
   "source": [
    "## Step 14: Number of Rows in Dinner Party Subset\n",
    "Display the total number of rows in the dinner party subset."
   ]
  },
  {
   "cell_type": "code",
   "execution_count": 149,
   "id": "ca6c8ddb-b852-4b94-8aca-b0289f23222f",
   "metadata": {},
   "outputs": [],
   "source": [
    "dinner_party_department_ids = [5, 7, 12, 20] "
   ]
  },
  {
   "cell_type": "code",
   "execution_count": 150,
   "id": "e94809e9-8420-4d00-b32b-3939c0db0704",
   "metadata": {},
   "outputs": [],
   "source": [
    "dinner_party = df_prods[df_prods['DepartmentID'].isin(dinner_party_department_ids)]"
   ]
  },
  {
   "cell_type": "code",
   "execution_count": 151,
   "id": "272b0721-fd5e-4b0d-9827-68f87842a340",
   "metadata": {},
   "outputs": [
    {
     "data": {
      "text/plain": [
       "(7650, 5)"
      ]
     },
     "execution_count": 151,
     "metadata": {},
     "output_type": "execute_result"
    }
   ],
   "source": [
    "dinner_party.shape"
   ]
  },
  {
   "cell_type": "markdown",
   "id": "161c1142-b05a-42e5-8294-2f2263a6a09e",
   "metadata": {},
   "source": [
    "## Step 15: Extract Data for user_id = 1\n",
    "Subset the orders DataFrame to show all records for user_id = 1 and export the results."
   ]
  },
  {
   "cell_type": "code",
   "execution_count": 152,
   "id": "41c6250f-b5f2-4d53-ad81-db6f29e99966",
   "metadata": {},
   "outputs": [],
   "source": [
    "user1_orders = df_ords[df_ords['user_id'] == 1]"
   ]
  },
  {
   "cell_type": "code",
   "execution_count": 153,
   "id": "8cda31cb-14d0-4c94-9fba-030717f4ac92",
   "metadata": {},
   "outputs": [],
   "source": [
    "user1_orders.to_csv(os.path.join(path, 'Prepared Data', 'user1_orders.csv'), index=False)"
   ]
  },
  {
   "cell_type": "code",
   "execution_count": 154,
   "id": "12d3a15d-a4d1-4251-8787-717a0cde77b5",
   "metadata": {},
   "outputs": [
    {
     "name": "stdout",
     "output_type": "stream",
     "text": [
      "       UserID  order_number  Order_DayOfWeek  Order_HourOfDay  \\\n",
      "count     0.0           0.0              0.0              0.0   \n",
      "mean      NaN           NaN              NaN              NaN   \n",
      "std       NaN           NaN              NaN              NaN   \n",
      "min       NaN           NaN              NaN              NaN   \n",
      "25%       NaN           NaN              NaN              NaN   \n",
      "50%       NaN           NaN              NaN              NaN   \n",
      "75%       NaN           NaN              NaN              NaN   \n",
      "max       NaN           NaN              NaN              NaN   \n",
      "\n",
      "       Days_SincePriorOrder  \n",
      "count                   0.0  \n",
      "mean                    NaN  \n",
      "std                     NaN  \n",
      "min                     NaN  \n",
      "25%                     NaN  \n",
      "50%                     NaN  \n",
      "75%                     NaN  \n",
      "max                     NaN  \n",
      "Total orders by user 1: 0\n"
     ]
    }
   ],
   "source": [
    "print(user1_orders.describe())\n",
    "print(\"Total orders by user 1:\", user1_orders.shape[0])"
   ]
  },
  {
   "cell_type": "code",
   "execution_count": 155,
   "id": "4592cdde-fcf1-4e17-aed1-6003464a57fc",
   "metadata": {},
   "outputs": [
    {
     "name": "stdout",
     "output_type": "stream",
     "text": [
      "Index(['OrderID', 'UserID', 'order_number', 'Order_DayOfWeek',\n",
      "       'Order_HourOfDay', 'Days_SincePriorOrder', 'user_id'],\n",
      "      dtype='object')\n"
     ]
    }
   ],
   "source": [
    "print(user1_orders.columns)"
   ]
  },
  {
   "cell_type": "code",
   "execution_count": 156,
   "id": "139236e9-3761-4f28-9efd-10a48b8edb39",
   "metadata": {},
   "outputs": [
    {
     "name": "stdout",
     "output_type": "stream",
     "text": [
      "No common order hour found.\n"
     ]
    }
   ],
   "source": [
    "mode_hour = user1_orders['Order_HourOfDay'].mode()\n",
    "if not mode_hour.empty:\n",
    "    print(\"Most common order hour:\", mode_hour.iloc[0])\n",
    "else:\n",
    "    print(\"No common order hour found.\")"
   ]
  },
  {
   "cell_type": "code",
   "execution_count": 157,
   "id": "b8636f36-a8f8-408b-a3aa-53e18aac2faf",
   "metadata": {},
   "outputs": [
    {
     "name": "stdout",
     "output_type": "stream",
     "text": [
      "No common order day found.\n"
     ]
    }
   ],
   "source": [
    "mode_day = user1_orders['Order_DayOfWeek'].mode()\n",
    "if not mode_day.empty:\n",
    "    print(\"Most common order day:\", mode_day.iloc[0])\n",
    "else:\n",
    "    print(\"No common order day found.\")"
   ]
  },
  {
   "cell_type": "markdown",
   "id": "f4ea80fd-1a9a-4d85-a78f-d645520d8470",
   "metadata": {},
   "source": [
    "## Step 16: Summary Statistics for user_id = 1\n",
    "Print descriptive statistics and the most common order hour and day for user 1."
   ]
  },
  {
   "cell_type": "code",
   "execution_count": 158,
   "id": "4483c19e-5ad8-4ede-9a69-48c2fba15707",
   "metadata": {},
   "outputs": [
    {
     "data": {
      "text/html": [
       "<div>\n",
       "<style scoped>\n",
       "    .dataframe tbody tr th:only-of-type {\n",
       "        vertical-align: middle;\n",
       "    }\n",
       "\n",
       "    .dataframe tbody tr th {\n",
       "        vertical-align: top;\n",
       "    }\n",
       "\n",
       "    .dataframe thead th {\n",
       "        text-align: right;\n",
       "    }\n",
       "</style>\n",
       "<table border=\"1\" class=\"dataframe\">\n",
       "  <thead>\n",
       "    <tr style=\"text-align: right;\">\n",
       "      <th></th>\n",
       "      <th>UserID</th>\n",
       "      <th>order_number</th>\n",
       "      <th>Order_DayOfWeek</th>\n",
       "      <th>Order_HourOfDay</th>\n",
       "      <th>Days_SincePriorOrder</th>\n",
       "    </tr>\n",
       "  </thead>\n",
       "  <tbody>\n",
       "    <tr>\n",
       "      <th>count</th>\n",
       "      <td>0.0</td>\n",
       "      <td>0.0</td>\n",
       "      <td>0.0</td>\n",
       "      <td>0.0</td>\n",
       "      <td>0.0</td>\n",
       "    </tr>\n",
       "    <tr>\n",
       "      <th>mean</th>\n",
       "      <td>NaN</td>\n",
       "      <td>NaN</td>\n",
       "      <td>NaN</td>\n",
       "      <td>NaN</td>\n",
       "      <td>NaN</td>\n",
       "    </tr>\n",
       "    <tr>\n",
       "      <th>std</th>\n",
       "      <td>NaN</td>\n",
       "      <td>NaN</td>\n",
       "      <td>NaN</td>\n",
       "      <td>NaN</td>\n",
       "      <td>NaN</td>\n",
       "    </tr>\n",
       "    <tr>\n",
       "      <th>min</th>\n",
       "      <td>NaN</td>\n",
       "      <td>NaN</td>\n",
       "      <td>NaN</td>\n",
       "      <td>NaN</td>\n",
       "      <td>NaN</td>\n",
       "    </tr>\n",
       "    <tr>\n",
       "      <th>25%</th>\n",
       "      <td>NaN</td>\n",
       "      <td>NaN</td>\n",
       "      <td>NaN</td>\n",
       "      <td>NaN</td>\n",
       "      <td>NaN</td>\n",
       "    </tr>\n",
       "    <tr>\n",
       "      <th>50%</th>\n",
       "      <td>NaN</td>\n",
       "      <td>NaN</td>\n",
       "      <td>NaN</td>\n",
       "      <td>NaN</td>\n",
       "      <td>NaN</td>\n",
       "    </tr>\n",
       "    <tr>\n",
       "      <th>75%</th>\n",
       "      <td>NaN</td>\n",
       "      <td>NaN</td>\n",
       "      <td>NaN</td>\n",
       "      <td>NaN</td>\n",
       "      <td>NaN</td>\n",
       "    </tr>\n",
       "    <tr>\n",
       "      <th>max</th>\n",
       "      <td>NaN</td>\n",
       "      <td>NaN</td>\n",
       "      <td>NaN</td>\n",
       "      <td>NaN</td>\n",
       "      <td>NaN</td>\n",
       "    </tr>\n",
       "  </tbody>\n",
       "</table>\n",
       "</div>"
      ],
      "text/plain": [
       "       UserID  order_number  Order_DayOfWeek  Order_HourOfDay  \\\n",
       "count     0.0           0.0              0.0              0.0   \n",
       "mean      NaN           NaN              NaN              NaN   \n",
       "std       NaN           NaN              NaN              NaN   \n",
       "min       NaN           NaN              NaN              NaN   \n",
       "25%       NaN           NaN              NaN              NaN   \n",
       "50%       NaN           NaN              NaN              NaN   \n",
       "75%       NaN           NaN              NaN              NaN   \n",
       "max       NaN           NaN              NaN              NaN   \n",
       "\n",
       "       Days_SincePriorOrder  \n",
       "count                   0.0  \n",
       "mean                    NaN  \n",
       "std                     NaN  \n",
       "min                     NaN  \n",
       "25%                     NaN  \n",
       "50%                     NaN  \n",
       "75%                     NaN  \n",
       "max                     NaN  "
      ]
     },
     "execution_count": 158,
     "metadata": {},
     "output_type": "execute_result"
    }
   ],
   "source": [
    "user_1 = df_ords[df_ords['user_id'] == 1]\n",
    "user_1.describe()"
   ]
  },
  {
   "cell_type": "markdown",
   "id": "efc1c85f-fe9a-4d39-a7df-a42200d0407f",
   "metadata": {},
   "source": [
    "## Step 17: Exporting Cleaned DataFrames\n",
    "Save all wrangled and subsetted DataFrames as CSV files for future use."
   ]
  },
  {
   "cell_type": "code",
   "execution_count": 159,
   "id": "92941996-ba58-419f-aec6-6ac22a938a31",
   "metadata": {},
   "outputs": [],
   "source": [
    "os.makedirs(os.path.join(path, 'Prepared Data'), exist_ok=True)"
   ]
  },
  {
   "cell_type": "code",
   "execution_count": 160,
   "id": "92eb7a5c-dda6-4fdc-975c-82eb5b2b47d7",
   "metadata": {},
   "outputs": [],
   "source": [
    "path = r\"/Users/canancengel/4.3_orders_products\""
   ]
  },
  {
   "cell_type": "code",
   "execution_count": 161,
   "id": "696be99a-6940-42c3-9570-9485a1c84ced",
   "metadata": {},
   "outputs": [],
   "source": [
    "df_dep = pd.read_csv(os.path.join(path, 'departments.csv'))"
   ]
  },
  {
   "cell_type": "code",
   "execution_count": 162,
   "id": "bd13de13-2896-4f22-b828-a00deb27496f",
   "metadata": {},
   "outputs": [],
   "source": [
    "df_dep_t_new = df_dep.T"
   ]
  },
  {
   "cell_type": "code",
   "execution_count": 163,
   "id": "c9c94f37-a1a8-4e8a-811f-b050eb5eb604",
   "metadata": {},
   "outputs": [],
   "source": [
    "prep_path = os.path.join(path, \"Prepared Data\")"
   ]
  },
  {
   "cell_type": "code",
   "execution_count": 164,
   "id": "5fb1d3e5-7153-4779-8b35-443fa38b1594",
   "metadata": {},
   "outputs": [],
   "source": [
    "df_dep_t_new.to_csv(os.path.join(prep_path, 'departments_wrangled.csv'), index=False)"
   ]
  }
 ],
 "metadata": {
  "kernelspec": {
   "display_name": "Python [conda env:base] *",
   "language": "python",
   "name": "conda-base-py"
  },
  "language_info": {
   "codemirror_mode": {
    "name": "ipython",
    "version": 3
   },
   "file_extension": ".py",
   "mimetype": "text/x-python",
   "name": "python",
   "nbconvert_exporter": "python",
   "pygments_lexer": "ipython3",
   "version": "3.12.7"
  }
 },
 "nbformat": 4,
 "nbformat_minor": 5
}

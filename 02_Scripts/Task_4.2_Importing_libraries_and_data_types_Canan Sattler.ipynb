{
 "cells": [
  {
   "cell_type": "markdown",
   "id": "a93177a5-476e-45b5-8243-863a944f488d",
   "metadata": {},
   "source": [
    "# 4.2: Importing Libraries and Python Data Types"
   ]
  },
  {
   "cell_type": "markdown",
   "id": "b79ec80a-0680-44f8-b50b-3b7ebdb2b98b",
   "metadata": {},
   "source": [
    "## Step 1: Importing Libraries"
   ]
  },
  {
   "cell_type": "code",
   "execution_count": 2,
   "id": "006bbd5d-01d5-44eb-aacb-d30da2197ad5",
   "metadata": {},
   "outputs": [],
   "source": [
    "import pandas as pd\n",
    "import numpy as np\n",
    "import os"
   ]
  },
  {
   "cell_type": "markdown",
   "id": "d15d61f6-b7cc-496a-a53b-394c970516d2",
   "metadata": {},
   "source": [
    "## Step 02: Data Types"
   ]
  },
  {
   "cell_type": "markdown",
   "id": "eb82c075-bc6e-45e5-b9e0-f5f6e0d45b65",
   "metadata": {},
   "source": [
    "### Addition/subtraction operations with numeric variables\n",
    "Code 3 different ways of reaching a result of 100 by adding or subtracting numeric variables."
   ]
  },
  {
   "cell_type": "code",
   "execution_count": 19,
   "id": "81896d3d-4725-40be-b267-73cf7b7a5e1e",
   "metadata": {},
   "outputs": [
    {
     "data": {
      "text/plain": [
       "100"
      ]
     },
     "execution_count": 19,
     "metadata": {},
     "output_type": "execute_result"
    }
   ],
   "source": [
    "x = 70\n",
    "y = 30\n",
    "x + y"
   ]
  },
  {
   "cell_type": "code",
   "execution_count": 20,
   "id": "fa577e8e-3c67-441a-8d67-c8e5c041235f",
   "metadata": {},
   "outputs": [
    {
     "data": {
      "text/plain": [
       "100"
      ]
     },
     "execution_count": 20,
     "metadata": {},
     "output_type": "execute_result"
    }
   ],
   "source": [
    "x = 35\n",
    "y = 65\n",
    "x + y"
   ]
  },
  {
   "cell_type": "code",
   "execution_count": 21,
   "id": "8d102631-13f4-4179-8bdb-94e74639e916",
   "metadata": {},
   "outputs": [
    {
     "data": {
      "text/plain": [
       "100"
      ]
     },
     "execution_count": 21,
     "metadata": {},
     "output_type": "execute_result"
    }
   ],
   "source": [
    "x = 175\n",
    "y = 75\n",
    "x - y"
   ]
  },
  {
   "cell_type": "markdown",
   "id": "19ae31c2-1224-4bcb-8e1e-d21afdbf04e4",
   "metadata": {},
   "source": [
    "### Floating-point variables and divide them by each other"
   ]
  },
  {
   "cell_type": "code",
   "execution_count": 22,
   "id": "f267ebe0-0fcf-457d-967d-bf39171e82fa",
   "metadata": {},
   "outputs": [
    {
     "data": {
      "text/plain": [
       "1.9856521739130437"
      ]
     },
     "execution_count": 22,
     "metadata": {},
     "output_type": "execute_result"
    }
   ],
   "source": [
    "x = 4.567\n",
    "y = 2.3\n",
    "x / y"
   ]
  },
  {
   "cell_type": "markdown",
   "id": "f56c1726-0e55-4342-8566-a365db9fba2c",
   "metadata": {},
   "source": [
    "## Step 03: Strings"
   ]
  },
  {
   "cell_type": "code",
   "execution_count": 8,
   "id": "0e19aaff-b23d-4bd9-81d0-8b7648f7f8fb",
   "metadata": {},
   "outputs": [
    {
     "name": "stdout",
     "output_type": "stream",
     "text": [
      "python\n"
     ]
    }
   ],
   "source": [
    "l1 = \"p\"\n",
    "l2 = \"y\"\n",
    "l3 = \"t\"\n",
    "l4 = \"h\"\n",
    "l5 = \"o\"\n",
    "l6 = \"n\"\n",
    "\n",
    "word = l1 + l2 + l3 + l4 + l5 + l6\n",
    "print(word)"
   ]
  },
  {
   "cell_type": "markdown",
   "id": "ff7cd1b3-5674-489f-b6b4-bcc1bcccd605",
   "metadata": {},
   "source": [
    "### String Concatenation"
   ]
  },
  {
   "cell_type": "code",
   "execution_count": 23,
   "id": "eec132b1-a5fc-4811-b172-ae55b4986503",
   "metadata": {},
   "outputs": [
    {
     "data": {
      "text/plain": [
       "'I love coding.'"
      ]
     },
     "execution_count": 23,
     "metadata": {},
     "output_type": "execute_result"
    }
   ],
   "source": [
    "x = \"I love \"\n",
    "y = \"coding.\"\n",
    "x + y"
   ]
  },
  {
   "cell_type": "code",
   "execution_count": 24,
   "id": "21b6fdaf-1586-4509-ad60-5eb3588fdc18",
   "metadata": {},
   "outputs": [
    {
     "data": {
      "text/plain": [
       "'Python is powerful.'"
      ]
     },
     "execution_count": 24,
     "metadata": {},
     "output_type": "execute_result"
    }
   ],
   "source": [
    "x = \"Python \"\n",
    "y = \"is powerful.\"\n",
    "x + y"
   ]
  },
  {
   "cell_type": "markdown",
   "id": "fbba9021-e55f-48d2-a4f5-4272d5ff3d6c",
   "metadata": {},
   "source": [
    "### Print String 100 Times"
   ]
  },
  {
   "cell_type": "code",
   "execution_count": 26,
   "id": "e2bd8ea7-736d-46a8-9120-2c6495b32ff5",
   "metadata": {},
   "outputs": [
    {
     "name": "stdout",
     "output_type": "stream",
     "text": [
      "data data data data data data data data data data data data data data data data data data data data data data data data data data data data data data data data data data data data data data data data data data data data data data data data data data data data data data data data data data data data data data data data data data data data data data data data data data data data data data data data data data data data data data data data data data data data data data data data data data data data \n"
     ]
    }
   ],
   "source": [
    "print(\"data \"*100)"
   ]
  },
  {
   "cell_type": "code",
   "execution_count": null,
   "id": "37f4087f-4c79-46dd-a6a9-791c6684a3c2",
   "metadata": {},
   "outputs": [],
   "source": []
  }
 ],
 "metadata": {
  "kernelspec": {
   "display_name": "Python [conda env:base] *",
   "language": "python",
   "name": "conda-base-py"
  },
  "language_info": {
   "codemirror_mode": {
    "name": "ipython",
    "version": 3
   },
   "file_extension": ".py",
   "mimetype": "text/x-python",
   "name": "python",
   "nbconvert_exporter": "python",
   "pygments_lexer": "ipython3",
   "version": "3.12.7"
  }
 },
 "nbformat": 4,
 "nbformat_minor": 5
}

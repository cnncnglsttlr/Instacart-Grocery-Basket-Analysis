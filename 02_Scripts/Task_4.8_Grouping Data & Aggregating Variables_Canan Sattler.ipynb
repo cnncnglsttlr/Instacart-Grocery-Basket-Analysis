{
 "cells": [
  {
   "cell_type": "markdown",
   "id": "9eb3fe16-4c66-4697-86c6-6811c0d6dcfa",
   "metadata": {},
   "source": [
    "## Task 4.8 - Grouping Data & Aggregating Variables"
   ]
  },
  {
   "cell_type": "markdown",
   "id": "c2e20e42-4534-4d80-9464-00da5046069a",
   "metadata": {},
   "source": [
    "### Step 1: Import Libraries and Define Path\n",
    "\n",
    "In this step, I import the required Python libraries and set the path to access our cleaned and merged dataset from previous tasks."
   ]
  },
  {
   "cell_type": "code",
   "execution_count": 1,
   "id": "f67447f0-a5a3-4745-8def-823b299301d8",
   "metadata": {},
   "outputs": [],
   "source": [
    "# Import necessary libraries\n",
    "import pandas as pd\n",
    "import numpy as np\n",
    "import os"
   ]
  },
  {
   "cell_type": "code",
   "execution_count": 2,
   "id": "3c8253fd-bcb0-4e8e-8222-0970c5ce8e67",
   "metadata": {},
   "outputs": [],
   "source": [
    "# Set path to your project directory\n",
    "path = r'/Users/canancengel/A4_Instacart Basket Analysis/02_Data/Prepared Data'"
   ]
  },
  {
   "cell_type": "markdown",
   "id": "f125f20a-ee71-4194-b2ca-7509c96bba14",
   "metadata": {},
   "source": [
    "### Step 2: Load the Prepared DataFrame\n",
    "\n",
    "I load the `ords_prods_merged.pkl` file that contains our prepared Instacart data from Task 4.7."
   ]
  },
  {
   "cell_type": "code",
   "execution_count": 3,
   "id": "333c001f-7e21-4872-9dd5-e0a4b3725df7",
   "metadata": {},
   "outputs": [],
   "source": [
    "df = pd.read_pickle(os.path.join(path, 'ords_prods_merge.pkl'))"
   ]
  },
  {
   "cell_type": "code",
   "execution_count": 4,
   "id": "6f8f5fbe-b50a-4231-b738-bbe3428cca4b",
   "metadata": {},
   "outputs": [],
   "source": [
    "# Create a subset of the first 1 million rows\n",
    "df_subset = df[:1000000]"
   ]
  },
  {
   "cell_type": "code",
   "execution_count": 5,
   "id": "5e298831-b247-4066-9eb0-e872b2c5acc6",
   "metadata": {},
   "outputs": [
    {
     "name": "stdout",
     "output_type": "stream",
     "text": [
      "(1000000, 15)\n"
     ]
    },
    {
     "data": {
      "text/html": [
       "<div>\n",
       "<style scoped>\n",
       "    .dataframe tbody tr th:only-of-type {\n",
       "        vertical-align: middle;\n",
       "    }\n",
       "\n",
       "    .dataframe tbody tr th {\n",
       "        vertical-align: top;\n",
       "    }\n",
       "\n",
       "    .dataframe thead th {\n",
       "        text-align: right;\n",
       "    }\n",
       "</style>\n",
       "<table border=\"1\" class=\"dataframe\">\n",
       "  <thead>\n",
       "    <tr style=\"text-align: right;\">\n",
       "      <th></th>\n",
       "      <th>order_id</th>\n",
       "      <th>user_id</th>\n",
       "      <th>order_number</th>\n",
       "      <th>order_dow</th>\n",
       "      <th>order_hour_of_day</th>\n",
       "      <th>days_since_prior_order</th>\n",
       "      <th>new_customer</th>\n",
       "      <th>product_id</th>\n",
       "      <th>add_to_cart_order</th>\n",
       "      <th>reordered</th>\n",
       "      <th>_merge</th>\n",
       "      <th>product_name</th>\n",
       "      <th>aisle_id</th>\n",
       "      <th>department_id</th>\n",
       "      <th>prices</th>\n",
       "    </tr>\n",
       "  </thead>\n",
       "  <tbody>\n",
       "    <tr>\n",
       "      <th>0</th>\n",
       "      <td>2539329</td>\n",
       "      <td>1</td>\n",
       "      <td>1</td>\n",
       "      <td>2</td>\n",
       "      <td>8</td>\n",
       "      <td>NaN</td>\n",
       "      <td>True</td>\n",
       "      <td>196</td>\n",
       "      <td>1</td>\n",
       "      <td>0</td>\n",
       "      <td>both</td>\n",
       "      <td>Soda</td>\n",
       "      <td>77</td>\n",
       "      <td>7</td>\n",
       "      <td>9.0</td>\n",
       "    </tr>\n",
       "    <tr>\n",
       "      <th>1</th>\n",
       "      <td>2539329</td>\n",
       "      <td>1</td>\n",
       "      <td>1</td>\n",
       "      <td>2</td>\n",
       "      <td>8</td>\n",
       "      <td>NaN</td>\n",
       "      <td>True</td>\n",
       "      <td>14084</td>\n",
       "      <td>2</td>\n",
       "      <td>0</td>\n",
       "      <td>both</td>\n",
       "      <td>Organic Unsweetened Vanilla Almond Milk</td>\n",
       "      <td>91</td>\n",
       "      <td>16</td>\n",
       "      <td>12.5</td>\n",
       "    </tr>\n",
       "    <tr>\n",
       "      <th>2</th>\n",
       "      <td>2539329</td>\n",
       "      <td>1</td>\n",
       "      <td>1</td>\n",
       "      <td>2</td>\n",
       "      <td>8</td>\n",
       "      <td>NaN</td>\n",
       "      <td>True</td>\n",
       "      <td>12427</td>\n",
       "      <td>3</td>\n",
       "      <td>0</td>\n",
       "      <td>both</td>\n",
       "      <td>Original Beef Jerky</td>\n",
       "      <td>23</td>\n",
       "      <td>19</td>\n",
       "      <td>4.4</td>\n",
       "    </tr>\n",
       "    <tr>\n",
       "      <th>3</th>\n",
       "      <td>2539329</td>\n",
       "      <td>1</td>\n",
       "      <td>1</td>\n",
       "      <td>2</td>\n",
       "      <td>8</td>\n",
       "      <td>NaN</td>\n",
       "      <td>True</td>\n",
       "      <td>26088</td>\n",
       "      <td>4</td>\n",
       "      <td>0</td>\n",
       "      <td>both</td>\n",
       "      <td>Aged White Cheddar Popcorn</td>\n",
       "      <td>23</td>\n",
       "      <td>19</td>\n",
       "      <td>4.7</td>\n",
       "    </tr>\n",
       "    <tr>\n",
       "      <th>4</th>\n",
       "      <td>2539329</td>\n",
       "      <td>1</td>\n",
       "      <td>1</td>\n",
       "      <td>2</td>\n",
       "      <td>8</td>\n",
       "      <td>NaN</td>\n",
       "      <td>True</td>\n",
       "      <td>26405</td>\n",
       "      <td>5</td>\n",
       "      <td>0</td>\n",
       "      <td>both</td>\n",
       "      <td>XL Pick-A-Size Paper Towel Rolls</td>\n",
       "      <td>54</td>\n",
       "      <td>17</td>\n",
       "      <td>1.0</td>\n",
       "    </tr>\n",
       "  </tbody>\n",
       "</table>\n",
       "</div>"
      ],
      "text/plain": [
       "   order_id  user_id  order_number  order_dow  order_hour_of_day  \\\n",
       "0   2539329        1             1          2                  8   \n",
       "1   2539329        1             1          2                  8   \n",
       "2   2539329        1             1          2                  8   \n",
       "3   2539329        1             1          2                  8   \n",
       "4   2539329        1             1          2                  8   \n",
       "\n",
       "   days_since_prior_order  new_customer  product_id  add_to_cart_order  \\\n",
       "0                     NaN          True         196                  1   \n",
       "1                     NaN          True       14084                  2   \n",
       "2                     NaN          True       12427                  3   \n",
       "3                     NaN          True       26088                  4   \n",
       "4                     NaN          True       26405                  5   \n",
       "\n",
       "   reordered _merge                             product_name  aisle_id  \\\n",
       "0          0   both                                     Soda        77   \n",
       "1          0   both  Organic Unsweetened Vanilla Almond Milk        91   \n",
       "2          0   both                      Original Beef Jerky        23   \n",
       "3          0   both               Aged White Cheddar Popcorn        23   \n",
       "4          0   both         XL Pick-A-Size Paper Towel Rolls        54   \n",
       "\n",
       "   department_id  prices  \n",
       "0              7     9.0  \n",
       "1             16    12.5  \n",
       "2             19     4.4  \n",
       "3             19     4.7  \n",
       "4             17     1.0  "
      ]
     },
     "execution_count": 5,
     "metadata": {},
     "output_type": "execute_result"
    }
   ],
   "source": [
    "# Check shape and preview\n",
    "print(df_subset.shape)\n",
    "df_subset.head()"
   ]
  },
  {
   "cell_type": "markdown",
   "id": "386d441f-81d9-4a7b-bf2a-4fd3226608cf",
   "metadata": {},
   "source": [
    "### Step 3: Calculate Mean Order Number by Department (Entire DataFrame)\n",
    "\n",
    "This step calculates the average order number for each department to analyze general order frequency patterns."
   ]
  },
  {
   "cell_type": "code",
   "execution_count": 6,
   "id": "5822363d-03f3-43e6-b38e-4d97925911fd",
   "metadata": {},
   "outputs": [],
   "source": [
    "# Group by department and calculate mean order number\n",
    "mean_orders_full = df.groupby('department_id')['order_number'].mean()"
   ]
  },
  {
   "cell_type": "code",
   "execution_count": 7,
   "id": "45ef48f8-2ea0-4786-bb83-fe1dbeabb504",
   "metadata": {},
   "outputs": [
    {
     "data": {
      "text/plain": [
       "department_id\n",
       "1     15.457838\n",
       "2     17.277920\n",
       "3     17.170395\n",
       "4     17.811403\n",
       "5     15.215751\n",
       "6     16.439806\n",
       "7     17.225802\n",
       "8     15.340650\n",
       "9     15.895474\n",
       "10    20.197148\n",
       "11    16.170638\n",
       "12    15.887671\n",
       "13    16.583536\n",
       "14    16.773669\n",
       "15    16.165037\n",
       "16    17.665606\n",
       "17    15.694469\n",
       "18    19.310397\n",
       "19    17.177343\n",
       "20    16.473447\n",
       "21    22.902379\n",
       "Name: order_number, dtype: float64"
      ]
     },
     "execution_count": 7,
     "metadata": {},
     "output_type": "execute_result"
    }
   ],
   "source": [
    "# Display the results\n",
    "mean_orders_full"
   ]
  },
  {
   "cell_type": "markdown",
   "id": "353c75c1-0eb3-4981-b85e-082a53d2e91c",
   "metadata": {},
   "source": [
    "Analysis:\n",
    "The table shows the average number of orders per department based on the full dataset. When compared to the subset (first 1 million rows), we can observe that the full dataset yields slightly higher averages in many departments. This is likely due to the fact that the full dataset includes more recent and complete user behavior data, which helps capture long-term shopping patterns. Therefore, while the subset can offer a quick preview, the entire dataset provides a more accurate and reliable view for business decision-making."
   ]
  },
  {
   "cell_type": "code",
   "execution_count": 8,
   "id": "51d292fa-ccbc-4b7f-8ceb-2d4c710a661d",
   "metadata": {},
   "outputs": [],
   "source": [
    "# Subset mean order number per department\n",
    "mean_orders_subset = df_subset.groupby('department_id')['order_number'].mean()"
   ]
  },
  {
   "cell_type": "code",
   "execution_count": 9,
   "id": "a9ce70b7-ec2d-4795-bfaf-a787e80e1ae8",
   "metadata": {},
   "outputs": [
    {
     "data": {
      "text/plain": [
       "department_id\n",
       "1     14.800024\n",
       "2     17.091743\n",
       "3     17.913544\n",
       "4     17.893092\n",
       "5     15.214270\n",
       "6     15.382135\n",
       "7     17.694027\n",
       "8     16.458105\n",
       "9     15.957363\n",
       "10    20.091818\n",
       "11    16.482026\n",
       "12    15.615061\n",
       "13    16.484023\n",
       "14    17.524632\n",
       "15    15.691875\n",
       "16    18.014071\n",
       "17    16.150593\n",
       "18    19.602850\n",
       "19    17.631340\n",
       "20    17.138607\n",
       "21    21.956893\n",
       "Name: order_number, dtype: float64"
      ]
     },
     "execution_count": 9,
     "metadata": {},
     "output_type": "execute_result"
    }
   ],
   "source": [
    "# Display the subset means\n",
    "mean_orders_subset"
   ]
  },
  {
   "cell_type": "markdown",
   "id": "9b3df4cf-64cf-497d-8b51-4cca92ffd0ce",
   "metadata": {},
   "source": [
    "Comparison: While both datasets show similar patterns, slight variations may exist due to the limited number of entries in the subset. The full dataset provides a more complete view."
   ]
  },
  {
   "cell_type": "markdown",
   "id": "91816b80-fdb7-4794-a80c-eff575d11095",
   "metadata": {},
   "source": [
    "## Step 4: Create a Max Order Column per User\n",
    "\n",
    "This step creates a new column `max_order` that shows the total number of orders each user has made."
   ]
  },
  {
   "cell_type": "code",
   "execution_count": 10,
   "id": "8041e407-c0fc-4b0d-b3f1-a8df8978ff27",
   "metadata": {},
   "outputs": [],
   "source": [
    "df['max_order'] = df.groupby('user_id')['order_number'].transform('max')"
   ]
  },
  {
   "cell_type": "code",
   "execution_count": 11,
   "id": "060dcf2b-9f36-49f7-a3f1-7c9ce2f04c6a",
   "metadata": {},
   "outputs": [],
   "source": [
    "df.loc[df['max_order'] > 40, 'loyalty_flag'] = 'Loyal customer'"
   ]
  },
  {
   "cell_type": "code",
   "execution_count": 12,
   "id": "cd753852-0148-4508-ac37-44f9a858b5da",
   "metadata": {},
   "outputs": [],
   "source": [
    "df.loc[(df['max_order'] <= 40) & (df['max_order'] > 10), 'loyalty_flag'] = 'Regular customer'"
   ]
  },
  {
   "cell_type": "markdown",
   "id": "d3b1eda1-23bf-48b5-af64-97c479c8bc98",
   "metadata": {},
   "source": [
    "## Step 5: Create a Loyalty Flag\n",
    "\n",
    "Users are segmented into loyalty categories (Loyal, Regular, New) based on the number of orders placed."
   ]
  },
  {
   "cell_type": "code",
   "execution_count": 13,
   "id": "12fe9075-8a75-4ecb-8dba-e5d7ce223ee6",
   "metadata": {},
   "outputs": [],
   "source": [
    "df.loc[df['max_order'] <= 10, 'loyalty_flag'] = 'New customer'"
   ]
  },
  {
   "cell_type": "markdown",
   "id": "99b445a2-015c-43c5-80a3-a3db41a8ec06",
   "metadata": {},
   "source": [
    "## Step 6: Display Distribution of Loyalty Flag\n",
    "\n",
    "This section displays the frequency of each loyalty category for further interpretation."
   ]
  },
  {
   "cell_type": "code",
   "execution_count": 14,
   "id": "1853f65a-82b8-4898-aabc-b397d1ba4c62",
   "metadata": {},
   "outputs": [
    {
     "name": "stdout",
     "output_type": "stream",
     "text": [
      "loyalty_flag\n",
      "Regular customer    15876776\n",
      "Loyal customer      10284093\n",
      "New customer         6243990\n",
      "Name: count, dtype: int64\n"
     ]
    }
   ],
   "source": [
    "print(df['loyalty_flag'].value_counts(dropna=False))"
   ]
  },
  {
   "cell_type": "markdown",
   "id": "292c3304-18ac-40b2-a1b9-616c32062c71",
   "metadata": {},
   "source": [
    "## Step 7: Calculate Average Days Between Orders per User\n",
    "\n",
    "I calculate the mean number of days between prior orders for each user using the `days_since_prior_order` column."
   ]
  },
  {
   "cell_type": "code",
   "execution_count": 15,
   "id": "c1aa30ec-9709-4448-948e-1fbc1f0db5f1",
   "metadata": {},
   "outputs": [],
   "source": [
    "# Calculate average days between orders per user\n",
    "df['order_frequency'] = df.groupby('user_id')['days_since_prior_order'].transform('mean')"
   ]
  },
  {
   "cell_type": "code",
   "execution_count": 16,
   "id": "42109d1c-3838-4e83-a268-e41660032757",
   "metadata": {},
   "outputs": [],
   "source": [
    "df['avg_price'] = df.groupby('user_id')['prices'].transform('mean')\n",
    "\n",
    "df.loc[df['avg_price'] >= 10, 'income_flag'] = 'High spender'\n",
    "df.loc[df['avg_price'] < 10, 'income_flag'] = 'Low spender'"
   ]
  },
  {
   "cell_type": "markdown",
   "id": "a5bb6682-6f20-4bb4-8d3f-9971f55a6502",
   "metadata": {},
   "source": [
    "## Step 8: Create an Income Flag\n",
    "\n",
    "Based on average spending, users are labeled as \"High Spender\" or \"Low Spender\"."
   ]
  },
  {
   "cell_type": "code",
   "execution_count": 17,
   "id": "1b3209dd-1756-4cdf-b54d-a55c76baacfc",
   "metadata": {},
   "outputs": [
    {
     "name": "stdout",
     "output_type": "stream",
     "text": [
      "income_flag\n",
      "Low spender     31770614\n",
      "High spender      634245\n",
      "Name: count, dtype: int64\n"
     ]
    }
   ],
   "source": [
    "print(df['income_flag'].value_counts(dropna=False))"
   ]
  },
  {
   "cell_type": "markdown",
   "id": "41fbe69f-9be4-48dd-9029-6fd2e519ed13",
   "metadata": {},
   "source": [
    "## Step 9: Create Order Frequency Flag Using Median Days\n",
    "\n",
    "Using the median of days since prior orders, I segment users into frequency categories."
   ]
  },
  {
   "cell_type": "code",
   "execution_count": 18,
   "id": "b1564c67-11c8-4c34-a04e-5f268a9a328b",
   "metadata": {},
   "outputs": [],
   "source": [
    "# Create order frequency flag based on median of days_since_prior_order\n",
    "df['median_days'] = df.groupby('user_id')['days_since_prior_order'].transform('median')\n",
    "\n",
    "df.loc[df['median_days'] > 20, 'order_frequency_flag'] = 'Non-frequent customer'\n",
    "df.loc[(df['median_days'] > 10) & (df['median_days'] <= 20), 'order_frequency_flag'] = 'Regular customer'\n",
    "df.loc[df['median_days'] <= 10, 'order_frequency_flag'] = 'Frequent customer'"
   ]
  },
  {
   "cell_type": "markdown",
   "id": "6ef00ee4-2941-44cd-a210-31437c332463",
   "metadata": {},
   "source": [
    "## Step 10: Display Distribution of Order Frequency Flag\n",
    "\n",
    "The output shows how users are distributed across frequency categories: Frequent, Regular, and Non-frequent."
   ]
  },
  {
   "cell_type": "code",
   "execution_count": 19,
   "id": "4b415374-62c1-45ea-8835-653573c185e7",
   "metadata": {},
   "outputs": [
    {
     "name": "stdout",
     "output_type": "stream",
     "text": [
      "order_frequency_flag\n",
      "Frequent customer        21559853\n",
      "Regular customer          7208564\n",
      "Non-frequent customer     3636437\n",
      "NaN                             5\n",
      "Name: count, dtype: int64\n"
     ]
    }
   ],
   "source": [
    "print(df['order_frequency_flag'].value_counts(dropna=False))"
   ]
  },
  {
   "cell_type": "code",
   "execution_count": 20,
   "id": "f7a3eb2e-5b28-44e1-b336-d6b4bd8ee5c7",
   "metadata": {},
   "outputs": [
    {
     "name": "stdout",
     "output_type": "stream",
     "text": [
      "order_frequency_flag\n",
      "Frequent customer        21559853\n",
      "Regular customer          7208564\n",
      "Non-frequent customer     3636437\n",
      "NaN                             5\n",
      "Name: count, dtype: int64\n"
     ]
    }
   ],
   "source": [
    "# Display distribution of order frequency flag\n",
    "print(df['order_frequency_flag'].value_counts(dropna=False))"
   ]
  },
  {
   "cell_type": "markdown",
   "id": "3a136a54-5441-48e3-8710-3763852295bc",
   "metadata": {},
   "source": [
    "Interpretation: The majority of users are frequent customers, suggesting high platform engagement and regular ordering behavior."
   ]
  },
  {
   "cell_type": "markdown",
   "id": "2a1923eb-be56-486c-b61c-e4fd03f81a75",
   "metadata": {},
   "source": [
    "## Step 11: Create a Customer-Level Aggregated DataFrame\n",
    "This step creates a new dataframe with one row per user and aggregated metrics for deeper analysis."
   ]
  },
  {
   "cell_type": "code",
   "execution_count": 21,
   "id": "fd637791-b495-4489-ad9b-f3f68847bfbe",
   "metadata": {},
   "outputs": [],
   "source": [
    "# Create a customer-level dataframe with one row per user\n",
    "customer_df = df.groupby('user_id').agg({\n",
    "    'order_number': 'max',\n",
    "    'order_frequency': 'mean'\n",
    "}).reset_index()"
   ]
  },
  {
   "cell_type": "code",
   "execution_count": 22,
   "id": "a4d323d5-b1a8-40fa-a76a-302f5c1026cc",
   "metadata": {},
   "outputs": [],
   "source": [
    "# Rename columns for clarity\n",
    "customer_df.rename(columns={\n",
    "    'order_number': 'total_orders',\n",
    "    'order_frequency': 'avg_days_between_orders'\n",
    "}, inplace=True)"
   ]
  },
  {
   "cell_type": "code",
   "execution_count": 23,
   "id": "496a2dae-6d52-40ff-8303-c44f9eb604b0",
   "metadata": {},
   "outputs": [
    {
     "data": {
      "text/html": [
       "<div>\n",
       "<style scoped>\n",
       "    .dataframe tbody tr th:only-of-type {\n",
       "        vertical-align: middle;\n",
       "    }\n",
       "\n",
       "    .dataframe tbody tr th {\n",
       "        vertical-align: top;\n",
       "    }\n",
       "\n",
       "    .dataframe thead th {\n",
       "        text-align: right;\n",
       "    }\n",
       "</style>\n",
       "<table border=\"1\" class=\"dataframe\">\n",
       "  <thead>\n",
       "    <tr style=\"text-align: right;\">\n",
       "      <th></th>\n",
       "      <th>user_id</th>\n",
       "      <th>total_orders</th>\n",
       "      <th>avg_days_between_orders</th>\n",
       "    </tr>\n",
       "  </thead>\n",
       "  <tbody>\n",
       "    <tr>\n",
       "      <th>0</th>\n",
       "      <td>1</td>\n",
       "      <td>10</td>\n",
       "      <td>20.259259</td>\n",
       "    </tr>\n",
       "    <tr>\n",
       "      <th>1</th>\n",
       "      <td>2</td>\n",
       "      <td>14</td>\n",
       "      <td>15.967033</td>\n",
       "    </tr>\n",
       "    <tr>\n",
       "      <th>2</th>\n",
       "      <td>3</td>\n",
       "      <td>12</td>\n",
       "      <td>11.487179</td>\n",
       "    </tr>\n",
       "    <tr>\n",
       "      <th>3</th>\n",
       "      <td>4</td>\n",
       "      <td>5</td>\n",
       "      <td>15.357143</td>\n",
       "    </tr>\n",
       "    <tr>\n",
       "      <th>4</th>\n",
       "      <td>5</td>\n",
       "      <td>4</td>\n",
       "      <td>14.500000</td>\n",
       "    </tr>\n",
       "  </tbody>\n",
       "</table>\n",
       "</div>"
      ],
      "text/plain": [
       "   user_id  total_orders  avg_days_between_orders\n",
       "0        1            10                20.259259\n",
       "1        2            14                15.967033\n",
       "2        3            12                11.487179\n",
       "3        4             5                15.357143\n",
       "4        5             4                14.500000"
      ]
     },
     "execution_count": 23,
     "metadata": {},
     "output_type": "execute_result"
    }
   ],
   "source": [
    "# Check the head of the new customer-level dataframe\n",
    "customer_df.head()"
   ]
  },
  {
   "cell_type": "markdown",
   "id": "8efa09e6-99a4-4b06-8afe-45340d74f531",
   "metadata": {},
   "source": [
    "## Step 12: Export Final DataFrame\n",
    "\n",
    "I save the final, enriched dataframe to a pickle file for future use or further analysis."
   ]
  },
  {
   "cell_type": "code",
   "execution_count": 24,
   "id": "d38dbce9-19ce-439e-a256-c55431e41de7",
   "metadata": {},
   "outputs": [],
   "source": [
    "# Export the customer-level dataframe as a pickle file\n",
    "customer_df.to_pickle(os.path.join(path, 'customer_lifetime_value.pkl'))"
   ]
  },
  {
   "cell_type": "code",
   "execution_count": 25,
   "id": "ba0ca27c-5f8d-45d3-9af5-ed4a9be8af6f",
   "metadata": {},
   "outputs": [],
   "source": [
    "df.to_pickle(os.path.join(path, 'df_grouped.pkl'))"
   ]
  },
  {
   "cell_type": "markdown",
   "id": "9d2626fe-8b48-48ac-8a7a-f21cfe87e8f1",
   "metadata": {},
   "source": [
    "## Summary:\n",
    "- Most users fall into the \"Frequent\" and \"Regular\" order frequency segments, showing active platform usage.\n",
    "- Spending behavior indicates more users are \"Low Spenders\", possibly indicating price sensitivity.\n",
    "- A strong portion of users are classified as \"Loyal\", which is a positive signal for customer retention.\n",
    "\n",
    "These insights can be used to inform marketing strategies and personalization efforts."
   ]
  },
  {
   "cell_type": "code",
   "execution_count": null,
   "id": "1432b2cf-c8b6-47ef-954f-8956d8c5ea7d",
   "metadata": {},
   "outputs": [],
   "source": []
  }
 ],
 "metadata": {
  "kernelspec": {
   "display_name": "Python [conda env:base] *",
   "language": "python",
   "name": "conda-base-py"
  },
  "language_info": {
   "codemirror_mode": {
    "name": "ipython",
    "version": 3
   },
   "file_extension": ".py",
   "mimetype": "text/x-python",
   "name": "python",
   "nbconvert_exporter": "python",
   "pygments_lexer": "ipython3",
   "version": "3.12.7"
  }
 },
 "nbformat": 4,
 "nbformat_minor": 5
}
